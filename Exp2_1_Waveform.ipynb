{
 "cells": [
  {
   "cell_type": "code",
   "execution_count": 1,
   "id": "08ff3ad5",
   "metadata": {},
   "outputs": [],
   "source": [
    "import numpy as np\n",
    "import pandas as pd\n",
    "from sklearn import svm\n",
    "import sklearn.model_selection as model_selection\n",
    "from sklearn.metrics import accuracy_score\n",
    "from sklearn.metrics import f1_score\n",
    "import uncertainty_sampling_multiclass as usm\n",
    "import matplotlib.pyplot as plt"
   ]
  },
  {
   "cell_type": "code",
   "execution_count": 2,
   "id": "89d52c5a",
   "metadata": {},
   "outputs": [],
   "source": [
    "df = pd.read_csv(\"waveform.data\", sep = ',', header = None)\n",
    "data = df.values"
   ]
  },
  {
   "cell_type": "code",
   "execution_count": 3,
   "id": "504c45c1",
   "metadata": {},
   "outputs": [
    {
     "name": "stdout",
     "output_type": "stream",
     "text": [
      "(5000, 22)\n"
     ]
    }
   ],
   "source": [
    "print(data.shape)"
   ]
  },
  {
   "cell_type": "code",
   "execution_count": 4,
   "id": "37e12212",
   "metadata": {},
   "outputs": [],
   "source": [
    "index = np.arange(data.shape[0])\n",
    "np.random.shuffle(index)"
   ]
  },
  {
   "cell_type": "code",
   "execution_count": 5,
   "id": "dc97e8c1",
   "metadata": {},
   "outputs": [],
   "source": [
    "X = np.array(data[index[:10000], :-1], dtype = float)"
   ]
  },
  {
   "cell_type": "code",
   "execution_count": 6,
   "id": "9f2c6f84",
   "metadata": {},
   "outputs": [],
   "source": [
    "Y = np.array(data[index[:10000], -1], dtype = int)"
   ]
  },
  {
   "cell_type": "code",
   "execution_count": 7,
   "id": "bd4ead7c",
   "metadata": {},
   "outputs": [
    {
     "name": "stdout",
     "output_type": "stream",
     "text": [
      "float64\n",
      "int32\n"
     ]
    }
   ],
   "source": [
    "print(X.dtype)\n",
    "print(Y.dtype)"
   ]
  },
  {
   "cell_type": "code",
   "execution_count": 12,
   "id": "3d86db7c",
   "metadata": {},
   "outputs": [],
   "source": [
    "def normalize(x):\n",
    "    dim = x.shape[1]\n",
    "    x_min = np.min(x, axis = 0, keepdims = True)\n",
    "    x_max = np.max(x, axis = 0, keepdims = True)\n",
    "    inds = x_max - x_min == 0\n",
    "    norm = x_max - x_min\n",
    "    norm[inds] = 1.0\n",
    "    return np.divide(x - x_min, norm)"
   ]
  },
  {
   "cell_type": "code",
   "execution_count": 13,
   "id": "de6da58f",
   "metadata": {},
   "outputs": [],
   "source": [
    "X = normalize(X)"
   ]
  },
  {
   "cell_type": "code",
   "execution_count": 14,
   "id": "fd591cb7",
   "metadata": {},
   "outputs": [],
   "source": [
    "X_train, X_test, Y_train, Y_test = model_selection.train_test_split(X, Y, train_size=0.80, test_size=0.20, random_state=0)"
   ]
  },
  {
   "cell_type": "code",
   "execution_count": 15,
   "id": "0bebf175",
   "metadata": {},
   "outputs": [],
   "source": [
    "linear = svm.SVC(kernel='linear', C=1.0).fit(X_train, Y_train)\n",
    "rbf = svm.SVC(kernel='rbf', gamma=0.5, C=0.1).fit(X_train, Y_train)\n",
    "poly = svm.SVC(kernel='poly', degree=3, C=1).fit(X_train, Y_train)"
   ]
  },
  {
   "cell_type": "code",
   "execution_count": 16,
   "id": "62ddbe51",
   "metadata": {},
   "outputs": [],
   "source": [
    "linear_pred = linear.predict(X_test)\n",
    "poly_pred = poly.predict(X_test)\n",
    "rbf_pred = rbf.predict(X_test)"
   ]
  },
  {
   "cell_type": "code",
   "execution_count": 17,
   "id": "fb5da0ac",
   "metadata": {},
   "outputs": [
    {
     "name": "stdout",
     "output_type": "stream",
     "text": [
      "Accuracy (Linear):  87.30\n",
      "F1 (Linear):  87.29\n"
     ]
    }
   ],
   "source": [
    "linear_accuracy = accuracy_score(Y_test, linear_pred)\n",
    "linear_f1 = f1_score(Y_test, linear_pred, average='weighted')\n",
    "print('Accuracy (Linear): ', \"%.2f\" % (linear_accuracy*100))\n",
    "print('F1 (Linear): ', \"%.2f\" % (linear_f1*100))"
   ]
  },
  {
   "cell_type": "code",
   "execution_count": 18,
   "id": "4883a48d",
   "metadata": {},
   "outputs": [
    {
     "name": "stdout",
     "output_type": "stream",
     "text": [
      "Accuracy (Polynomial Kernel):  84.10\n",
      "F1 (Polynomial Kernel):  84.10\n"
     ]
    }
   ],
   "source": [
    "poly_accuracy = accuracy_score(Y_test, poly_pred)\n",
    "poly_f1 = f1_score(Y_test, poly_pred, average='weighted')\n",
    "print('Accuracy (Polynomial Kernel): ', \"%.2f\" % (poly_accuracy*100))\n",
    "print('F1 (Polynomial Kernel): ', \"%.2f\" % (poly_f1*100))"
   ]
  },
  {
   "cell_type": "code",
   "execution_count": 19,
   "id": "da1f1c5f",
   "metadata": {},
   "outputs": [
    {
     "name": "stdout",
     "output_type": "stream",
     "text": [
      "Accuracy (Rbf Kernel):  87.40\n",
      "F1 (Rbf Kernel):  87.33\n"
     ]
    }
   ],
   "source": [
    "rbf_accuracy = accuracy_score(Y_test, rbf_pred)\n",
    "rbf_f1 = f1_score(Y_test, rbf_pred, average='weighted')\n",
    "print('Accuracy (Rbf Kernel): ', \"%.2f\" % (rbf_accuracy*100))\n",
    "print('F1 (Rbf Kernel): ', \"%.2f\" % (rbf_f1*100))"
   ]
  },
  {
   "cell_type": "code",
   "execution_count": 20,
   "id": "3cca06af",
   "metadata": {},
   "outputs": [
    {
     "name": "stderr",
     "output_type": "stream",
     "text": [
      "100%|██████████████████████████████████████████████████████████████████████████████| 313/313 [00:00<00:00, 6395.84it/s]\n"
     ]
    }
   ],
   "source": [
    "coeff_pas, inter_pas = usm.uncertain_sampling(X_train, np.array(pd.get_dummies(Y_train)), \n",
    "                           init = 'zero', \n",
    "                           query = 'passive',\n",
    "                           max_iter = 1e4, \n",
    "                           step_size = 5e-1, \n",
    "                           batch_size = 32)"
   ]
  },
  {
   "cell_type": "code",
   "execution_count": 21,
   "id": "3981d7ba",
   "metadata": {},
   "outputs": [
    {
     "data": {
      "image/png": "[encoded data removed]",
      "text/plain": [
       "<Figure size 640x480 with 1 Axes>"
      ]
     },
     "metadata": {},
     "output_type": "display_data"
    }
   ],
   "source": [
    "acc_pas = usm.plot_accuracy(X_test, np.array(pd.get_dummies(Y_test)), coeff_pas, inter_pas, is_print = True)"
   ]
  },
  {
   "cell_type": "code",
   "execution_count": 22,
   "id": "c8244190",
   "metadata": {},
   "outputs": [
    {
     "name": "stderr",
     "output_type": "stream",
     "text": [
      "100%|████████████████████████████████████████████████████████████████████████████████| 313/313 [00:04<00:00, 69.82it/s]\n"
     ]
    }
   ],
   "source": [
    "coeff_act, inter_act = usm.uncertain_sampling(X_train, np.array(pd.get_dummies(Y_train)), \n",
    "                           init = 'zero', \n",
    "                           query = 'active',\n",
    "                           width = 2e-1,\n",
    "                           max_iter = 1e4, \n",
    "                           step_size = 5e-1, \n",
    "                           warm_start = 0,\n",
    "                           sep_valid = True,\n",
    "                           valid_ratio = 0.5,\n",
    "                           update_freq = 1,\n",
    "                           batch_size = 32)"
   ]
  },
  {
   "cell_type": "code",
   "execution_count": 23,
   "id": "7c0e576f",
   "metadata": {},
   "outputs": [
    {
     "data": {
      "image/png": "[encoded data removed]",
      "text/plain": [
       "<Figure size 640x480 with 1 Axes>"
      ]
     },
     "metadata": {},
     "output_type": "display_data"
    }
   ],
   "source": [
    "acc_act = usm.plot_accuracy(X_test, np.array(pd.get_dummies(Y_test)), coeff_act, inter_act, is_print = True)"
   ]
  },
  {
   "cell_type": "code",
   "execution_count": 24,
   "id": "2acee5f0",
   "metadata": {},
   "outputs": [
    {
     "data": {
      "image/png": "[encoded data removed]",
      "text/plain": [
       "<Figure size 640x480 with 1 Axes>"
      ]
     },
     "metadata": {},
     "output_type": "display_data"
    }
   ],
   "source": [
    "plt.plot(acc_pas, label = 'passive')\n",
    "plt.plot(acc_act, label = 'active')\n",
    "plt.legend()\n",
    "plt.show()"
   ]
  },
  {
   "cell_type": "code",
   "execution_count": 25,
   "id": "99dc1e66",
   "metadata": {},
   "outputs": [
    {
     "name": "stdout",
     "output_type": "stream",
     "text": [
      "************************\n",
      " trial 1\n"
     ]
    },
    {
     "name": "stderr",
     "output_type": "stream",
     "text": [
      "100%|██████████████████████████████████████████████████████████████████████████████| 313/313 [00:00<00:00, 8923.02it/s]\n",
      "100%|████████████████████████████████████████████████████████████████████████████████| 313/313 [00:03<00:00, 80.39it/s]\n"
     ]
    },
    {
     "name": "stdout",
     "output_type": "stream",
     "text": [
      "************************\n",
      " trial 2\n"
     ]
    },
    {
     "name": "stderr",
     "output_type": "stream",
     "text": [
      "100%|██████████████████████████████████████████████████████████████████████████████| 313/313 [00:00<00:00, 8473.29it/s]\n",
      "100%|████████████████████████████████████████████████████████████████████████████████| 313/313 [00:03<00:00, 84.88it/s]\n"
     ]
    },
    {
     "name": "stdout",
     "output_type": "stream",
     "text": [
      "************************\n",
      " trial 3\n"
     ]
    },
    {
     "name": "stderr",
     "output_type": "stream",
     "text": [
      "100%|██████████████████████████████████████████████████████████████████████████████| 313/313 [00:00<00:00, 7435.49it/s]\n",
      "100%|████████████████████████████████████████████████████████████████████████████████| 313/313 [00:03<00:00, 86.10it/s]\n"
     ]
    },
    {
     "name": "stdout",
     "output_type": "stream",
     "text": [
      "************************\n",
      " trial 4\n"
     ]
    },
    {
     "name": "stderr",
     "output_type": "stream",
     "text": [
      "100%|██████████████████████████████████████████████████████████████████████████████| 313/313 [00:00<00:00, 7192.81it/s]\n",
      "100%|████████████████████████████████████████████████████████████████████████████████| 313/313 [00:04<00:00, 71.76it/s]\n"
     ]
    },
    {
     "name": "stdout",
     "output_type": "stream",
     "text": [
      "************************\n",
      " trial 5\n"
     ]
    },
    {
     "name": "stderr",
     "output_type": "stream",
     "text": [
      "100%|██████████████████████████████████████████████████████████████████████████████| 313/313 [00:00<00:00, 8825.72it/s]\n",
      "100%|████████████████████████████████████████████████████████████████████████████████| 313/313 [00:04<00:00, 76.16it/s]\n"
     ]
    },
    {
     "name": "stdout",
     "output_type": "stream",
     "text": [
      "************************\n",
      " trial 6\n"
     ]
    },
    {
     "name": "stderr",
     "output_type": "stream",
     "text": [
      "100%|██████████████████████████████████████████████████████████████████████████████| 313/313 [00:00<00:00, 7403.54it/s]\n",
      "100%|████████████████████████████████████████████████████████████████████████████████| 313/313 [00:03<00:00, 87.04it/s]\n"
     ]
    },
    {
     "name": "stdout",
     "output_type": "stream",
     "text": [
      "************************\n",
      " trial 7\n"
     ]
    },
    {
     "name": "stderr",
     "output_type": "stream",
     "text": [
      "100%|█████████████████████████████████████████████████████████████████████████████| 313/313 [00:00<00:00, 10364.89it/s]\n",
      "100%|████████████████████████████████████████████████████████████████████████████████| 313/313 [00:03<00:00, 87.79it/s]\n"
     ]
    },
    {
     "name": "stdout",
     "output_type": "stream",
     "text": [
      "************************\n",
      " trial 8\n"
     ]
    },
    {
     "name": "stderr",
     "output_type": "stream",
     "text": [
      "100%|██████████████████████████████████████████████████████████████████████████████| 313/313 [00:00<00:00, 8208.08it/s]\n",
      "100%|████████████████████████████████████████████████████████████████████████████████| 313/313 [00:03<00:00, 86.83it/s]\n"
     ]
    },
    {
     "name": "stdout",
     "output_type": "stream",
     "text": [
      "************************\n",
      " trial 9\n"
     ]
    },
    {
     "name": "stderr",
     "output_type": "stream",
     "text": [
      "100%|██████████████████████████████████████████████████████████████████████████████| 313/313 [00:00<00:00, 6699.76it/s]\n",
      "100%|████████████████████████████████████████████████████████████████████████████████| 313/313 [00:03<00:00, 86.93it/s]\n"
     ]
    },
    {
     "name": "stdout",
     "output_type": "stream",
     "text": [
      "************************\n",
      " trial 10\n"
     ]
    },
    {
     "name": "stderr",
     "output_type": "stream",
     "text": [
      "100%|██████████████████████████████████████████████████████████████████████████████| 313/313 [00:00<00:00, 8157.59it/s]\n",
      "100%|████████████████████████████████████████████████████████████████████████████████| 313/313 [00:03<00:00, 85.41it/s]\n"
     ]
    },
    {
     "name": "stdout",
     "output_type": "stream",
     "text": [
      "************************\n",
      " trial 11\n"
     ]
    },
    {
     "name": "stderr",
     "output_type": "stream",
     "text": [
      "100%|██████████████████████████████████████████████████████████████████████████████| 313/313 [00:00<00:00, 6155.05it/s]\n",
      "100%|████████████████████████████████████████████████████████████████████████████████| 313/313 [00:03<00:00, 86.74it/s]\n"
     ]
    },
    {
     "name": "stdout",
     "output_type": "stream",
     "text": [
      "************************\n",
      " trial 12\n"
     ]
    },
    {
     "name": "stderr",
     "output_type": "stream",
     "text": [
      "100%|██████████████████████████████████████████████████████████████████████████████| 313/313 [00:00<00:00, 8044.17it/s]\n",
      "100%|████████████████████████████████████████████████████████████████████████████████| 313/313 [00:03<00:00, 87.95it/s]\n"
     ]
    },
    {
     "name": "stdout",
     "output_type": "stream",
     "text": [
      "************************\n",
      " trial 13\n"
     ]
    },
    {
     "name": "stderr",
     "output_type": "stream",
     "text": [
      "100%|██████████████████████████████████████████████████████████████████████████████| 313/313 [00:00<00:00, 8625.32it/s]\n",
      "100%|████████████████████████████████████████████████████████████████████████████████| 313/313 [00:03<00:00, 88.13it/s]\n"
     ]
    },
    {
     "name": "stdout",
     "output_type": "stream",
     "text": [
      "************************\n",
      " trial 14\n"
     ]
    },
    {
     "name": "stderr",
     "output_type": "stream",
     "text": [
      "100%|██████████████████████████████████████████████████████████████████████████████| 313/313 [00:00<00:00, 6699.55it/s]\n",
      "100%|████████████████████████████████████████████████████████████████████████████████| 313/313 [00:03<00:00, 86.00it/s]\n"
     ]
    },
    {
     "name": "stdout",
     "output_type": "stream",
     "text": [
      "************************\n",
      " trial 15\n"
     ]
    },
    {
     "name": "stderr",
     "output_type": "stream",
     "text": [
      "100%|██████████████████████████████████████████████████████████████████████████████| 313/313 [00:00<00:00, 5690.24it/s]\n",
      "100%|████████████████████████████████████████████████████████████████████████████████| 313/313 [00:03<00:00, 87.17it/s]\n"
     ]
    },
    {
     "name": "stdout",
     "output_type": "stream",
     "text": [
      "************************\n",
      " trial 16\n"
     ]
    },
    {
     "name": "stderr",
     "output_type": "stream",
     "text": [
      "100%|██████████████████████████████████████████████████████████████████████████████| 313/313 [00:00<00:00, 8290.19it/s]\n",
      "100%|████████████████████████████████████████████████████████████████████████████████| 313/313 [00:03<00:00, 86.59it/s]\n"
     ]
    },
    {
     "name": "stdout",
     "output_type": "stream",
     "text": [
      "************************\n",
      " trial 17\n"
     ]
    },
    {
     "name": "stderr",
     "output_type": "stream",
     "text": [
      "100%|██████████████████████████████████████████████████████████████████████████████| 313/313 [00:00<00:00, 7369.04it/s]\n",
      "100%|████████████████████████████████████████████████████████████████████████████████| 313/313 [00:03<00:00, 87.48it/s]\n"
     ]
    },
    {
     "name": "stdout",
     "output_type": "stream",
     "text": [
      "************************\n",
      " trial 18\n"
     ]
    },
    {
     "name": "stderr",
     "output_type": "stream",
     "text": [
      "100%|██████████████████████████████████████████████████████████████████████████████| 313/313 [00:00<00:00, 6584.53it/s]\n",
      "100%|████████████████████████████████████████████████████████████████████████████████| 313/313 [00:03<00:00, 88.91it/s]\n"
     ]
    },
    {
     "name": "stdout",
     "output_type": "stream",
     "text": [
      "************************\n",
      " trial 19\n"
     ]
    },
    {
     "name": "stderr",
     "output_type": "stream",
     "text": [
      "100%|██████████████████████████████████████████████████████████████████████████████| 313/313 [00:00<00:00, 7226.38it/s]\n",
      "100%|████████████████████████████████████████████████████████████████████████████████| 313/313 [00:03<00:00, 85.98it/s]\n"
     ]
    },
    {
     "name": "stdout",
     "output_type": "stream",
     "text": [
      "************************\n",
      " trial 20\n"
     ]
    },
    {
     "name": "stderr",
     "output_type": "stream",
     "text": [
      "100%|██████████████████████████████████████████████████████████████████████████████| 313/313 [00:00<00:00, 8015.49it/s]\n",
      "100%|████████████████████████████████████████████████████████████████████████████████| 313/313 [00:03<00:00, 87.34it/s]\n"
     ]
    },
    {
     "name": "stdout",
     "output_type": "stream",
     "text": [
      "************************\n",
      " trial 21\n"
     ]
    },
    {
     "name": "stderr",
     "output_type": "stream",
     "text": [
      "100%|█████████████████████████████████████████████████████████████████████████████| 313/313 [00:00<00:00, 10120.47it/s]\n",
      "100%|████████████████████████████████████████████████████████████████████████████████| 313/313 [00:03<00:00, 86.41it/s]\n"
     ]
    },
    {
     "name": "stdout",
     "output_type": "stream",
     "text": [
      "************************\n",
      " trial 22\n"
     ]
    },
    {
     "name": "stderr",
     "output_type": "stream",
     "text": [
      "100%|██████████████████████████████████████████████████████████████████████████████| 313/313 [00:00<00:00, 6133.77it/s]\n",
      "100%|████████████████████████████████████████████████████████████████████████████████| 313/313 [00:03<00:00, 86.90it/s]\n"
     ]
    },
    {
     "name": "stdout",
     "output_type": "stream",
     "text": [
      "************************\n",
      " trial 23\n"
     ]
    },
    {
     "name": "stderr",
     "output_type": "stream",
     "text": [
      "100%|██████████████████████████████████████████████████████████████████████████████| 313/313 [00:00<00:00, 6948.55it/s]\n",
      "100%|████████████████████████████████████████████████████████████████████████████████| 313/313 [00:03<00:00, 86.86it/s]\n"
     ]
    },
    {
     "name": "stdout",
     "output_type": "stream",
     "text": [
      "************************\n",
      " trial 24\n"
     ]
    },
    {
     "name": "stderr",
     "output_type": "stream",
     "text": [
      "100%|██████████████████████████████████████████████████████████████████████████████| 313/313 [00:00<00:00, 7131.08it/s]\n",
      "100%|████████████████████████████████████████████████████████████████████████████████| 313/313 [00:03<00:00, 87.84it/s]\n"
     ]
    },
    {
     "name": "stdout",
     "output_type": "stream",
     "text": [
      "************************\n",
      " trial 25\n"
     ]
    },
    {
     "name": "stderr",
     "output_type": "stream",
     "text": [
      "100%|██████████████████████████████████████████████████████████████████████████████| 313/313 [00:00<00:00, 7203.15it/s]\n",
      "100%|████████████████████████████████████████████████████████████████████████████████| 313/313 [00:03<00:00, 85.29it/s]\n"
     ]
    },
    {
     "name": "stdout",
     "output_type": "stream",
     "text": [
      "************************\n",
      " trial 26\n"
     ]
    },
    {
     "name": "stderr",
     "output_type": "stream",
     "text": [
      "100%|██████████████████████████████████████████████████████████████████████████████| 313/313 [00:00<00:00, 8713.43it/s]\n",
      "100%|████████████████████████████████████████████████████████████████████████████████| 313/313 [00:03<00:00, 87.20it/s]\n"
     ]
    },
    {
     "name": "stdout",
     "output_type": "stream",
     "text": [
      "************************\n",
      " trial 27\n"
     ]
    },
    {
     "name": "stderr",
     "output_type": "stream",
     "text": [
      "100%|██████████████████████████████████████████████████████████████████████████████| 313/313 [00:00<00:00, 9233.23it/s]\n",
      "100%|████████████████████████████████████████████████████████████████████████████████| 313/313 [00:03<00:00, 84.80it/s]\n"
     ]
    },
    {
     "name": "stdout",
     "output_type": "stream",
     "text": [
      "************************\n",
      " trial 28\n"
     ]
    },
    {
     "name": "stderr",
     "output_type": "stream",
     "text": [
      "100%|██████████████████████████████████████████████████████████████████████████████| 313/313 [00:00<00:00, 7893.42it/s]\n",
      "100%|████████████████████████████████████████████████████████████████████████████████| 313/313 [00:03<00:00, 86.96it/s]\n"
     ]
    },
    {
     "name": "stdout",
     "output_type": "stream",
     "text": [
      "************************\n",
      " trial 29\n"
     ]
    },
    {
     "name": "stderr",
     "output_type": "stream",
     "text": [
      "100%|██████████████████████████████████████████████████████████████████████████████| 313/313 [00:00<00:00, 8136.15it/s]\n",
      "100%|████████████████████████████████████████████████████████████████████████████████| 313/313 [00:03<00:00, 86.96it/s]\n"
     ]
    },
    {
     "name": "stdout",
     "output_type": "stream",
     "text": [
      "************************\n",
      " trial 30\n"
     ]
    },
    {
     "name": "stderr",
     "output_type": "stream",
     "text": [
      "100%|██████████████████████████████████████████████████████████████████████████████| 313/313 [00:00<00:00, 9306.93it/s]\n",
      "100%|████████████████████████████████████████████████████████████████████████████████| 313/313 [00:03<00:00, 87.34it/s]\n"
     ]
    }
   ],
   "source": [
    "trials = 30\n",
    "steps = 10000\n",
    "batch_size = 32\n",
    "is_first = True\n",
    "for t in range(trials):\n",
    "    print(\"************************\\n trial\", t + 1)\n",
    "    X_train, X_test, Y_train, Y_test = model_selection.train_test_split(X, Y, train_size=0.80, test_size=0.20)\n",
    "    init = np.random.normal(size = (X_train.shape[1] + 1, np.array(pd.get_dummies(Y_train).shape[1])))\n",
    "    coeff_pas_lgr, inter_pas_lgr = usm.uncertain_sampling(X_train, np.array(pd.get_dummies(Y_train), dtype = int),\n",
    "                                              init_method = 'fixed',\n",
    "                                              init = np.copy(init), \n",
    "                                              query = 'passive',\n",
    "                                              max_iter = steps, \n",
    "                                              step_size = 5e-1, \n",
    "                                              batch_size = batch_size,\n",
    "                                              method = 'logistic_regression')\n",
    "    coeff_act_lgr, inter_act_lgr = usm.uncertain_sampling(X_train, np.array(pd.get_dummies(Y_train), dtype = int), \n",
    "                                              init_method = 'fixed',\n",
    "                                              init = np.copy(init), \n",
    "                                              query = 'active',\n",
    "                                              width = 2e-1,\n",
    "                                              max_iter = steps, \n",
    "                                              step_size = 5e-1, \n",
    "                                              warm_start = 0,\n",
    "                                              sep_valid = True,\n",
    "                                              valid_ratio = 0.5,\n",
    "                                              update_freq = 1,\n",
    "                                              batch_size = batch_size,\n",
    "                                              method = 'logistic_regression')\n",
    "    if is_first:\n",
    "        acc_pas_lgr = np.asarray(usm.plot_accuracy(X_test, np.array(pd.get_dummies(Y_test)), coeff_pas_lgr, inter_pas_lgr)) / float(trials)\n",
    "        acc_act_lgr = np.asarray(usm.plot_accuracy(X_test, np.array(pd.get_dummies(Y_test)), coeff_act_lgr, inter_act_lgr)) / float(trials)\n",
    "        is_first = False\n",
    "    else:\n",
    "        acc_pas_lgr += np.asarray(usm.plot_accuracy(X_test, np.array(pd.get_dummies(Y_test)), coeff_pas_lgr, inter_pas_lgr)) / float(trials)\n",
    "        acc_act_lgr += np.asarray(usm.plot_accuracy(X_test, np.array(pd.get_dummies(Y_test)), coeff_act_lgr, inter_act_lgr)) / float(trials)"
   ]
  },
  {
   "cell_type": "code",
   "execution_count": 26,
   "id": "994e4267",
   "metadata": {},
   "outputs": [
    {
     "data": {
      "image/png": "[encoded data removed]",
      "text/plain": [
       "<Figure size 640x480 with 1 Axes>"
      ]
     },
     "metadata": {},
     "output_type": "display_data"
    }
   ],
   "source": [
    "grid = np.arange(0, steps, batch_size)\n",
    "grid = np.concatenate((grid, np.atleast_1d(steps)))\n",
    "plt.plot(grid, acc_pas_lgr, label = 'passive', linestyle = 'dotted')\n",
    "plt.plot(grid, acc_act_lgr, label = 'active', linestyle = 'solid')\n",
    "plt.legend()\n",
    "plt.xlabel('steps')\n",
    "plt.ylabel('accuracy')\n",
    "plt.show()"
   ]
  },
  {
   "cell_type": "code",
   "execution_count": 27,
   "id": "9e26caac",
   "metadata": {},
   "outputs": [
    {
     "name": "stderr",
     "output_type": "stream",
     "text": [
      "100%|██████████████████████████████████████████████████████████████████████████████| 313/313 [00:00<00:00, 6237.82it/s]\n"
     ]
    }
   ],
   "source": [
    "coeff_pas_svm, inter_pas_svm = usm.uncertain_sampling(X_train, np.array(pd.get_dummies(Y_train), dtype = int), \n",
    "                                                       init = 'zero', \n",
    "                                                       query = 'passive',\n",
    "                                                       max_iter = 1e4, \n",
    "                                                       step_size = 2e-1, \n",
    "                                                       batch_size = 32,\n",
    "                                                       method = 'svm')"
   ]
  },
  {
   "cell_type": "code",
   "execution_count": 28,
   "id": "c12bd0eb",
   "metadata": {},
   "outputs": [
    {
     "data": {
      "image/png": "[encoded data removed]",
      "text/plain": [
       "<Figure size 640x480 with 1 Axes>"
      ]
     },
     "metadata": {},
     "output_type": "display_data"
    }
   ],
   "source": [
    "acc_pas_svm = usm.plot_accuracy(X_test, np.array(pd.get_dummies(Y_test)), coeff_pas_svm, inter_pas_svm, is_print = True, method = 'svm')"
   ]
  },
  {
   "cell_type": "code",
   "execution_count": 29,
   "id": "14042d5e",
   "metadata": {},
   "outputs": [
    {
     "name": "stderr",
     "output_type": "stream",
     "text": [
      "100%|████████████████████████████████████████████████████████████████████████████████| 313/313 [00:04<00:00, 72.37it/s]\n"
     ]
    }
   ],
   "source": [
    "coeff_act_svm, inter_act_svm = usm.uncertain_sampling(X_train, np.array(pd.get_dummies(Y_train), dtype = int), \n",
    "                                                       init = 'zero', \n",
    "                                                       query = 'active',\n",
    "                                                       width = 2e-1,\n",
    "                                                       max_iter = 1e4, \n",
    "                                                       step_size = 2e-1, \n",
    "                                                       warm_start = 0,\n",
    "                                                       sep_valid = True,\n",
    "                                                       valid_ratio = 0.5,\n",
    "                                                       update_freq = 1,\n",
    "                                                       batch_size = 32,\n",
    "                                                       method = 'svm')"
   ]
  },
  {
   "cell_type": "code",
   "execution_count": 30,
   "id": "abd80aed",
   "metadata": {},
   "outputs": [
    {
     "data": {
      "image/png": "[encoded data removed]",
      "text/plain": [
       "<Figure size 640x480 with 1 Axes>"
      ]
     },
     "metadata": {},
     "output_type": "display_data"
    }
   ],
   "source": [
    "acc_act_svm = usm.plot_accuracy(X_test, np.array(pd.get_dummies(Y_test)), coeff_act_svm, inter_act_svm, is_print = True, method = 'svm')"
   ]
  },
  {
   "cell_type": "code",
   "execution_count": 31,
   "id": "1e72f938",
   "metadata": {},
   "outputs": [
    {
     "data": {
      "image/png": "[encoded data removed]",
      "text/plain": [
       "<Figure size 640x480 with 1 Axes>"
      ]
     },
     "metadata": {},
     "output_type": "display_data"
    }
   ],
   "source": [
    "plt.plot(acc_pas_svm, label = 'passive')\n",
    "plt.plot(acc_act_svm, label = 'active')\n",
    "plt.legend()\n",
    "plt.show()"
   ]
  },
  {
   "cell_type": "code",
   "execution_count": 32,
   "id": "1a14de67",
   "metadata": {},
   "outputs": [
    {
     "name": "stdout",
     "output_type": "stream",
     "text": [
      "************************\n",
      " trial 1\n"
     ]
    },
    {
     "name": "stderr",
     "output_type": "stream",
     "text": [
      "100%|██████████████████████████████████████████████████████████████████████████████| 313/313 [00:00<00:00, 5948.61it/s]\n",
      "100%|████████████████████████████████████████████████████████████████████████████████| 313/313 [00:04<00:00, 71.46it/s]\n"
     ]
    },
    {
     "name": "stdout",
     "output_type": "stream",
     "text": [
      "************************\n",
      " trial 2\n"
     ]
    },
    {
     "name": "stderr",
     "output_type": "stream",
     "text": [
      "100%|██████████████████████████████████████████████████████████████████████████████| 313/313 [00:00<00:00, 5100.76it/s]\n",
      "100%|████████████████████████████████████████████████████████████████████████████████| 313/313 [00:04<00:00, 71.31it/s]\n"
     ]
    },
    {
     "name": "stdout",
     "output_type": "stream",
     "text": [
      "************************\n",
      " trial 3\n"
     ]
    },
    {
     "name": "stderr",
     "output_type": "stream",
     "text": [
      "100%|██████████████████████████████████████████████████████████████████████████████| 313/313 [00:00<00:00, 5080.27it/s]\n",
      "100%|████████████████████████████████████████████████████████████████████████████████| 313/313 [00:04<00:00, 71.82it/s]\n"
     ]
    },
    {
     "name": "stdout",
     "output_type": "stream",
     "text": [
      "************************\n",
      " trial 4\n"
     ]
    },
    {
     "name": "stderr",
     "output_type": "stream",
     "text": [
      "100%|██████████████████████████████████████████████████████████████████████████████| 313/313 [00:00<00:00, 5292.00it/s]\n",
      "100%|████████████████████████████████████████████████████████████████████████████████| 313/313 [00:04<00:00, 71.49it/s]\n"
     ]
    },
    {
     "name": "stdout",
     "output_type": "stream",
     "text": [
      "************************\n",
      " trial 5\n"
     ]
    },
    {
     "name": "stderr",
     "output_type": "stream",
     "text": [
      "100%|██████████████████████████████████████████████████████████████████████████████| 313/313 [00:00<00:00, 6022.18it/s]\n",
      "100%|████████████████████████████████████████████████████████████████████████████████| 313/313 [00:04<00:00, 71.79it/s]\n"
     ]
    },
    {
     "name": "stdout",
     "output_type": "stream",
     "text": [
      "************************\n",
      " trial 6\n"
     ]
    },
    {
     "name": "stderr",
     "output_type": "stream",
     "text": [
      "100%|██████████████████████████████████████████████████████████████████████████████| 313/313 [00:00<00:00, 5080.64it/s]\n",
      "100%|████████████████████████████████████████████████████████████████████████████████| 313/313 [00:04<00:00, 72.68it/s]\n"
     ]
    },
    {
     "name": "stdout",
     "output_type": "stream",
     "text": [
      "************************\n",
      " trial 7\n"
     ]
    },
    {
     "name": "stderr",
     "output_type": "stream",
     "text": [
      "100%|██████████████████████████████████████████████████████████████████████████████| 313/313 [00:00<00:00, 5672.88it/s]\n",
      "100%|████████████████████████████████████████████████████████████████████████████████| 313/313 [00:04<00:00, 71.52it/s]\n"
     ]
    },
    {
     "name": "stdout",
     "output_type": "stream",
     "text": [
      "************************\n",
      " trial 8\n"
     ]
    },
    {
     "name": "stderr",
     "output_type": "stream",
     "text": [
      "100%|██████████████████████████████████████████████████████████████████████████████| 313/313 [00:00<00:00, 5242.65it/s]\n",
      "100%|████████████████████████████████████████████████████████████████████████████████| 313/313 [00:04<00:00, 71.69it/s]\n"
     ]
    },
    {
     "name": "stdout",
     "output_type": "stream",
     "text": [
      "************************\n",
      " trial 9\n"
     ]
    },
    {
     "name": "stderr",
     "output_type": "stream",
     "text": [
      "100%|██████████████████████████████████████████████████████████████████████████████| 313/313 [00:00<00:00, 6249.13it/s]\n",
      "100%|████████████████████████████████████████████████████████████████████████████████| 313/313 [00:04<00:00, 71.50it/s]\n"
     ]
    },
    {
     "name": "stdout",
     "output_type": "stream",
     "text": [
      "************************\n",
      " trial 10\n"
     ]
    },
    {
     "name": "stderr",
     "output_type": "stream",
     "text": [
      "100%|██████████████████████████████████████████████████████████████████████████████| 313/313 [00:00<00:00, 4942.24it/s]\n",
      "100%|████████████████████████████████████████████████████████████████████████████████| 313/313 [00:04<00:00, 71.42it/s]\n"
     ]
    },
    {
     "name": "stdout",
     "output_type": "stream",
     "text": [
      "************************\n",
      " trial 11\n"
     ]
    },
    {
     "name": "stderr",
     "output_type": "stream",
     "text": [
      "100%|██████████████████████████████████████████████████████████████████████████████| 313/313 [00:00<00:00, 6130.73it/s]\n",
      "100%|████████████████████████████████████████████████████████████████████████████████| 313/313 [00:04<00:00, 71.45it/s]\n"
     ]
    },
    {
     "name": "stdout",
     "output_type": "stream",
     "text": [
      "************************\n",
      " trial 12\n"
     ]
    },
    {
     "name": "stderr",
     "output_type": "stream",
     "text": [
      "100%|██████████████████████████████████████████████████████████████████████████████| 313/313 [00:00<00:00, 5245.46it/s]\n",
      "100%|████████████████████████████████████████████████████████████████████████████████| 313/313 [00:04<00:00, 72.03it/s]\n"
     ]
    },
    {
     "name": "stdout",
     "output_type": "stream",
     "text": [
      "************************\n",
      " trial 13\n"
     ]
    },
    {
     "name": "stderr",
     "output_type": "stream",
     "text": [
      "100%|██████████████████████████████████████████████████████████████████████████████| 313/313 [00:00<00:00, 5770.35it/s]\n",
      "100%|████████████████████████████████████████████████████████████████████████████████| 313/313 [00:04<00:00, 71.14it/s]\n"
     ]
    },
    {
     "name": "stdout",
     "output_type": "stream",
     "text": [
      "************************\n",
      " trial 14\n"
     ]
    },
    {
     "name": "stderr",
     "output_type": "stream",
     "text": [
      "100%|██████████████████████████████████████████████████████████████████████████████| 313/313 [00:00<00:00, 5244.60it/s]\n",
      "100%|████████████████████████████████████████████████████████████████████████████████| 313/313 [00:04<00:00, 72.36it/s]\n"
     ]
    },
    {
     "name": "stdout",
     "output_type": "stream",
     "text": [
      "************************\n",
      " trial 15\n"
     ]
    },
    {
     "name": "stderr",
     "output_type": "stream",
     "text": [
      "100%|██████████████████████████████████████████████████████████████████████████████| 313/313 [00:00<00:00, 6100.93it/s]\n",
      "100%|████████████████████████████████████████████████████████████████████████████████| 313/313 [00:04<00:00, 72.27it/s]\n"
     ]
    },
    {
     "name": "stdout",
     "output_type": "stream",
     "text": [
      "************************\n",
      " trial 16\n"
     ]
    },
    {
     "name": "stderr",
     "output_type": "stream",
     "text": [
      "100%|██████████████████████████████████████████████████████████████████████████████| 313/313 [00:00<00:00, 4594.67it/s]\n",
      "100%|████████████████████████████████████████████████████████████████████████████████| 313/313 [00:04<00:00, 72.77it/s]\n"
     ]
    },
    {
     "name": "stdout",
     "output_type": "stream",
     "text": [
      "************************\n",
      " trial 17\n"
     ]
    },
    {
     "name": "stderr",
     "output_type": "stream",
     "text": [
      "100%|██████████████████████████████████████████████████████████████████████████████| 313/313 [00:00<00:00, 5403.27it/s]\n",
      "100%|████████████████████████████████████████████████████████████████████████████████| 313/313 [00:04<00:00, 71.63it/s]\n"
     ]
    },
    {
     "name": "stdout",
     "output_type": "stream",
     "text": [
      "************************\n",
      " trial 18\n"
     ]
    },
    {
     "name": "stderr",
     "output_type": "stream",
     "text": [
      "100%|██████████████████████████████████████████████████████████████████████████████| 313/313 [00:00<00:00, 6677.27it/s]\n",
      "100%|████████████████████████████████████████████████████████████████████████████████| 313/313 [00:04<00:00, 72.11it/s]\n"
     ]
    },
    {
     "name": "stdout",
     "output_type": "stream",
     "text": [
      "************************\n",
      " trial 19\n"
     ]
    },
    {
     "name": "stderr",
     "output_type": "stream",
     "text": [
      "100%|██████████████████████████████████████████████████████████████████████████████| 313/313 [00:00<00:00, 5139.43it/s]\n",
      "100%|████████████████████████████████████████████████████████████████████████████████| 313/313 [00:04<00:00, 70.85it/s]\n"
     ]
    },
    {
     "name": "stdout",
     "output_type": "stream",
     "text": [
      "************************\n",
      " trial 20\n"
     ]
    },
    {
     "name": "stderr",
     "output_type": "stream",
     "text": [
      "100%|██████████████████████████████████████████████████████████████████████████████| 313/313 [00:00<00:00, 6708.97it/s]\n",
      "100%|████████████████████████████████████████████████████████████████████████████████| 313/313 [00:04<00:00, 72.31it/s]\n"
     ]
    },
    {
     "name": "stdout",
     "output_type": "stream",
     "text": [
      "************************\n",
      " trial 21\n"
     ]
    },
    {
     "name": "stderr",
     "output_type": "stream",
     "text": [
      "100%|██████████████████████████████████████████████████████████████████████████████| 313/313 [00:00<00:00, 5670.33it/s]\n",
      "100%|████████████████████████████████████████████████████████████████████████████████| 313/313 [00:04<00:00, 72.80it/s]\n"
     ]
    },
    {
     "name": "stdout",
     "output_type": "stream",
     "text": [
      "************************\n",
      " trial 22\n"
     ]
    },
    {
     "name": "stderr",
     "output_type": "stream",
     "text": [
      "100%|██████████████████████████████████████████████████████████████████████████████| 313/313 [00:00<00:00, 5185.13it/s]\n",
      "100%|████████████████████████████████████████████████████████████████████████████████| 313/313 [00:04<00:00, 72.14it/s]\n"
     ]
    },
    {
     "name": "stdout",
     "output_type": "stream",
     "text": [
      "************************\n",
      " trial 23\n"
     ]
    },
    {
     "name": "stderr",
     "output_type": "stream",
     "text": [
      "100%|██████████████████████████████████████████████████████████████████████████████| 313/313 [00:00<00:00, 5008.32it/s]\n",
      "100%|████████████████████████████████████████████████████████████████████████████████| 313/313 [00:04<00:00, 72.29it/s]\n"
     ]
    },
    {
     "name": "stdout",
     "output_type": "stream",
     "text": [
      "************************\n",
      " trial 24\n"
     ]
    },
    {
     "name": "stderr",
     "output_type": "stream",
     "text": [
      "100%|██████████████████████████████████████████████████████████████████████████████| 313/313 [00:00<00:00, 5689.03it/s]\n",
      "100%|████████████████████████████████████████████████████████████████████████████████| 313/313 [00:04<00:00, 73.31it/s]\n"
     ]
    },
    {
     "name": "stdout",
     "output_type": "stream",
     "text": [
      "************************\n",
      " trial 25\n"
     ]
    },
    {
     "name": "stderr",
     "output_type": "stream",
     "text": [
      "100%|██████████████████████████████████████████████████████████████████████████████| 313/313 [00:00<00:00, 6098.67it/s]\n",
      "100%|████████████████████████████████████████████████████████████████████████████████| 313/313 [00:04<00:00, 72.28it/s]\n"
     ]
    },
    {
     "name": "stdout",
     "output_type": "stream",
     "text": [
      "************************\n",
      " trial 26\n"
     ]
    },
    {
     "name": "stderr",
     "output_type": "stream",
     "text": [
      "100%|██████████████████████████████████████████████████████████████████████████████| 313/313 [00:00<00:00, 6142.70it/s]\n",
      "100%|████████████████████████████████████████████████████████████████████████████████| 313/313 [00:04<00:00, 72.85it/s]\n"
     ]
    },
    {
     "name": "stdout",
     "output_type": "stream",
     "text": [
      "************************\n",
      " trial 27\n"
     ]
    },
    {
     "name": "stderr",
     "output_type": "stream",
     "text": [
      "100%|██████████████████████████████████████████████████████████████████████████████| 313/313 [00:00<00:00, 6220.73it/s]\n",
      "100%|████████████████████████████████████████████████████████████████████████████████| 313/313 [00:04<00:00, 71.66it/s]\n"
     ]
    },
    {
     "name": "stdout",
     "output_type": "stream",
     "text": [
      "************************\n",
      " trial 28\n"
     ]
    },
    {
     "name": "stderr",
     "output_type": "stream",
     "text": [
      "100%|██████████████████████████████████████████████████████████████████████████████| 313/313 [00:00<00:00, 6132.77it/s]\n",
      "100%|████████████████████████████████████████████████████████████████████████████████| 313/313 [00:04<00:00, 73.12it/s]\n"
     ]
    },
    {
     "name": "stdout",
     "output_type": "stream",
     "text": [
      "************************\n",
      " trial 29\n"
     ]
    },
    {
     "name": "stderr",
     "output_type": "stream",
     "text": [
      "100%|██████████████████████████████████████████████████████████████████████████████| 313/313 [00:00<00:00, 4961.16it/s]\n",
      "100%|████████████████████████████████████████████████████████████████████████████████| 313/313 [00:04<00:00, 69.65it/s]\n"
     ]
    },
    {
     "name": "stdout",
     "output_type": "stream",
     "text": [
      "************************\n",
      " trial 30\n"
     ]
    },
    {
     "name": "stderr",
     "output_type": "stream",
     "text": [
      "100%|██████████████████████████████████████████████████████████████████████████████| 313/313 [00:00<00:00, 5682.40it/s]\n",
      "100%|████████████████████████████████████████████████████████████████████████████████| 313/313 [00:04<00:00, 70.26it/s]\n"
     ]
    }
   ],
   "source": [
    "trials = 30\n",
    "steps = 10000\n",
    "batch_size = 32\n",
    "is_first = True\n",
    "for t in range(trials):\n",
    "    print(\"************************\\n trial\", t + 1)\n",
    "    X_train, X_test, Y_train, Y_test = model_selection.train_test_split(X, Y, train_size=0.80, test_size=0.20)\n",
    "    init = np.random.normal(size = (X_train.shape[1] + 1, np.array(pd.get_dummies(Y_train).shape[1])))\n",
    "    coeff_pas_svm, inter_pas_svm = usm.uncertain_sampling(X_train, np.array(pd.get_dummies(Y_train), dtype = int),\n",
    "                                                          init_method = 'fixed',\n",
    "                                                          init = np.copy(init), \n",
    "                                                          query = 'passive',\n",
    "                                                          max_iter = steps, \n",
    "                                                          step_size = 2e-1, \n",
    "                                                          batch_size = batch_size,\n",
    "                                                          method = 'svm')\n",
    "    coeff_act_svm, inter_act_svm = usm.uncertain_sampling(X_train, np.array(pd.get_dummies(Y_train), dtype = int), \n",
    "                                                          init_method = 'fixed',\n",
    "                                                          init = np.copy(init), \n",
    "                                                          query = 'active',\n",
    "                                                          width = 2e-1,\n",
    "                                                          max_iter = steps, \n",
    "                                                          step_size = 2e-1, \n",
    "                                                          warm_start = 0,\n",
    "                                                          sep_valid = True,\n",
    "                                                          valid_ratio = 0.5,\n",
    "                                                          update_freq = 1,\n",
    "                                                          batch_size = batch_size,\n",
    "                                                          method = 'svm')\n",
    "    if is_first:\n",
    "        acc_pas_svm = np.asarray(usm.plot_accuracy(X_test, np.array(pd.get_dummies(Y_test)), coeff_pas, inter_pas)) / float(trials)\n",
    "        acc_act_svm = np.asarray(usm.plot_accuracy(X_test, np.array(pd.get_dummies(Y_test)), coeff_act, inter_act)) / float(trials)\n",
    "        is_first = False\n",
    "    else:\n",
    "        acc_pas_svm += np.asarray(usm.plot_accuracy(X_test, np.array(pd.get_dummies(Y_test)), coeff_pas, inter_pas)) / float(trials)\n",
    "        acc_act_svm += np.asarray(usm.plot_accuracy(X_test, np.array(pd.get_dummies(Y_test)), coeff_act, inter_act)) / float(trials)"
   ]
  },
  {
   "cell_type": "code",
   "execution_count": 33,
   "id": "0d3a461c",
   "metadata": {},
   "outputs": [
    {
     "data": {
      "image/png": "[encoded data removed]",
      "text/plain": [
       "<Figure size 640x480 with 1 Axes>"
      ]
     },
     "metadata": {},
     "output_type": "display_data"
    }
   ],
   "source": [
    "grid = np.arange(0, steps, batch_size)\n",
    "grid = np.concatenate((grid, np.atleast_1d(steps)))\n",
    "plt.plot(grid, acc_pas_svm, label = 'passive', linestyle = 'dotted')\n",
    "plt.plot(grid, acc_act_svm, label = 'active', linestyle = 'solid')\n",
    "plt.legend()\n",
    "plt.xlabel('steps')\n",
    "plt.ylabel('accuracy')\n",
    "plt.show()"
   ]
  },
  {
   "cell_type": "code",
   "execution_count": 34,
   "id": "197018d4",
   "metadata": {},
   "outputs": [
    {
     "name": "stderr",
     "output_type": "stream",
     "text": [
      "The PostScript backend does not support transparency; partially transparent artists will be rendered opaque.\n"
     ]
    },
    {
     "data": {
      "image/png": "[encoded data removed]",
      "text/plain": [
       "<Figure size 1200x500 with 2 Axes>"
      ]
     },
     "metadata": {},
     "output_type": "display_data"
    }
   ],
   "source": [
    "fig, (ax1, ax2) = plt.subplots(1, 2, figsize = (12, 5))\n",
    "\n",
    "ax1.plot(grid, acc_pas_lgr, label = 'passive', linestyle = 'dotted')\n",
    "ax1.plot(grid, acc_act_lgr, label = 'active', linestyle = 'solid')\n",
    "ax2.plot(grid, acc_pas_svm, label = 'passive', linestyle = 'dotted')\n",
    "ax2.plot(grid, acc_act_svm, label = 'active', linestyle = 'solid')\n",
    "\n",
    "\n",
    "ax1.legend(fontsize=14)\n",
    "ax1.set_xlabel('Steps', fontsize=14)\n",
    "ax1.set_ylabel('Accuracy', fontsize=14)\n",
    "ax1.tick_params(axis='both', which='major', labelsize=12)\n",
    "ax1.tick_params(axis='both', which='minor', labelsize=12)\n",
    "ax2.legend(fontsize=14)\n",
    "ax2.set_xlabel('Steps', fontsize=14)\n",
    "ax2.tick_params(axis='both', which='major', labelsize=12)\n",
    "ax2.tick_params(axis='both', which='minor', labelsize=12)\n",
    "\n",
    "plt.savefig(\"Exp2_waveform.jpg\", bbox_inches='tight')\n",
    "plt.savefig(\"Exp2_waveform.eps\", bbox_inches='tight')\n",
    "plt.show()"
   ]
  }
 ],
 "metadata": {
  "kernelspec": {
   "display_name": "Python 3 (ipykernel)",
   "language": "python",
   "name": "python3"
  },
  "language_info": {
   "codemirror_mode": {
    "name": "ipython",
    "version": 3
   },
   "file_extension": ".py",
   "mimetype": "text/x-python",
   "name": "python",
   "nbconvert_exporter": "python",
   "pygments_lexer": "ipython3",
   "version": "3.8.16"
  }
 },
 "nbformat": 4,
 "nbformat_minor": 5
}
