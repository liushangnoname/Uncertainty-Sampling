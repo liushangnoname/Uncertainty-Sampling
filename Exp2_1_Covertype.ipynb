{
 "cells": [
  {
   "cell_type": "code",
   "execution_count": 1,
   "id": "08ff3ad5",
   "metadata": {},
   "outputs": [],
   "source": [
    "import numpy as np\n",
    "import pandas as pd\n",
    "from sklearn import svm\n",
    "import sklearn.model_selection as model_selection\n",
    "from sklearn.metrics import accuracy_score\n",
    "from sklearn.metrics import f1_score\n",
    "import uncertainty_sampling_multiclass as usm\n",
    "import matplotlib.pyplot as plt"
   ]
  },
  {
   "cell_type": "code",
   "execution_count": 2,
   "id": "89d52c5a",
   "metadata": {},
   "outputs": [],
   "source": [
    "df = pd.read_csv(\"covtype.data\", sep = ',', header = None)\n",
    "data = df.values"
   ]
  },
  {
   "cell_type": "code",
   "execution_count": 3,
   "id": "504c45c1",
   "metadata": {},
   "outputs": [
    {
     "name": "stdout",
     "output_type": "stream",
     "text": [
      "(581012, 55)\n"
     ]
    }
   ],
   "source": [
    "print(data.shape)"
   ]
  },
  {
   "cell_type": "code",
   "execution_count": 4,
   "id": "37e12212",
   "metadata": {},
   "outputs": [],
   "source": [
    "index = np.arange(data.shape[0])\n",
    "np.random.shuffle(index)"
   ]
  },
  {
   "cell_type": "code",
   "execution_count": 5,
   "id": "dc97e8c1",
   "metadata": {},
   "outputs": [],
   "source": [
    "X = np.array(data[index[:10000], :-1], dtype = float)"
   ]
  },
  {
   "cell_type": "code",
   "execution_count": 6,
   "id": "9f2c6f84",
   "metadata": {},
   "outputs": [],
   "source": [
    "Y = data[index[:10000], -1]"
   ]
  },
  {
   "cell_type": "code",
   "execution_count": 7,
   "id": "bd4ead7c",
   "metadata": {},
   "outputs": [
    {
     "name": "stdout",
     "output_type": "stream",
     "text": [
      "float64\n",
      "int64\n"
     ]
    }
   ],
   "source": [
    "print(X.dtype)\n",
    "print(Y.dtype)"
   ]
  },
  {
   "cell_type": "code",
   "execution_count": 20,
   "id": "3d86db7c",
   "metadata": {},
   "outputs": [],
   "source": [
    "def normalize(x):\n",
    "    dim = x.shape[1]\n",
    "    x_min = np.min(x, axis = 0, keepdims = True)\n",
    "    x_max = np.max(x, axis = 0, keepdims = True)\n",
    "    inds = x_max - x_min == 0\n",
    "    norm = x_max - x_min\n",
    "    norm[inds] = 1.0\n",
    "    return np.divide(x - x_min, norm)"
   ]
  },
  {
   "cell_type": "code",
   "execution_count": 21,
   "id": "de6da58f",
   "metadata": {},
   "outputs": [],
   "source": [
    "X = normalize(X)"
   ]
  },
  {
   "cell_type": "code",
   "execution_count": 22,
   "id": "fd591cb7",
   "metadata": {},
   "outputs": [],
   "source": [
    "X_train, X_test, Y_train, Y_test = model_selection.train_test_split(X, Y, train_size=0.80, test_size=0.20, random_state=0)"
   ]
  },
  {
   "cell_type": "code",
   "execution_count": 25,
   "id": "0bebf175",
   "metadata": {},
   "outputs": [],
   "source": [
    "linear = svm.SVC(kernel='linear', C=1.0).fit(X_train, Y_train)\n",
    "rbf = svm.SVC(kernel='rbf', gamma=0.5, C=0.1).fit(X_train, Y_train)\n",
    "poly = svm.SVC(kernel='poly', degree=3, C=1).fit(X_train, Y_train)"
   ]
  },
  {
   "cell_type": "code",
   "execution_count": 26,
   "id": "62ddbe51",
   "metadata": {},
   "outputs": [],
   "source": [
    "linear_pred = linear.predict(X_test)\n",
    "poly_pred = poly.predict(X_test)\n",
    "rbf_pred = rbf.predict(X_test)"
   ]
  },
  {
   "cell_type": "code",
   "execution_count": 27,
   "id": "fb5da0ac",
   "metadata": {},
   "outputs": [
    {
     "name": "stdout",
     "output_type": "stream",
     "text": [
      "Accuracy (Linear):  73.15\n",
      "F1 (Linear):  71.51\n"
     ]
    }
   ],
   "source": [
    "linear_accuracy = accuracy_score(Y_test, linear_pred)\n",
    "linear_f1 = f1_score(Y_test, linear_pred, average='weighted')\n",
    "print('Accuracy (Linear): ', \"%.2f\" % (linear_accuracy*100))\n",
    "print('F1 (Linear): ', \"%.2f\" % (linear_f1*100))"
   ]
  },
  {
   "cell_type": "code",
   "execution_count": 28,
   "id": "4883a48d",
   "metadata": {},
   "outputs": [
    {
     "name": "stdout",
     "output_type": "stream",
     "text": [
      "Accuracy (Polynomial Kernel):  73.65\n",
      "F1 (Polynomial Kernel):  72.14\n"
     ]
    }
   ],
   "source": [
    "poly_accuracy = accuracy_score(Y_test, poly_pred)\n",
    "poly_f1 = f1_score(Y_test, poly_pred, average='weighted')\n",
    "print('Accuracy (Polynomial Kernel): ', \"%.2f\" % (poly_accuracy*100))\n",
    "print('F1 (Polynomial Kernel): ', \"%.2f\" % (poly_f1*100))"
   ]
  },
  {
   "cell_type": "code",
   "execution_count": 29,
   "id": "da1f1c5f",
   "metadata": {},
   "outputs": [
    {
     "name": "stdout",
     "output_type": "stream",
     "text": [
      "Accuracy (Rbf Kernel):  66.90\n",
      "F1 (Rbf Kernel):  64.43\n"
     ]
    }
   ],
   "source": [
    "rbf_accuracy = accuracy_score(Y_test, rbf_pred)\n",
    "rbf_f1 = f1_score(Y_test, rbf_pred, average='weighted')\n",
    "print('Accuracy (Rbf Kernel): ', \"%.2f\" % (rbf_accuracy*100))\n",
    "print('F1 (Rbf Kernel): ', \"%.2f\" % (rbf_f1*100))"
   ]
  },
  {
   "cell_type": "code",
   "execution_count": 40,
   "id": "3cca06af",
   "metadata": {},
   "outputs": [
    {
     "name": "stderr",
     "output_type": "stream",
     "text": [
      "100%|██████████████████████████████████████████████████████████████████████████████| 313/313 [00:00<00:00, 8249.66it/s]\n"
     ]
    }
   ],
   "source": [
    "coeff_pas, inter_pas = usm.uncertain_sampling(X_train, np.array(pd.get_dummies(Y_train)), \n",
    "                           init = 'zero', \n",
    "                           query = 'passive',\n",
    "                           max_iter = 1e4, \n",
    "                           step_size = 2e0, \n",
    "                           batch_size = 32)"
   ]
  },
  {
   "cell_type": "code",
   "execution_count": 41,
   "id": "3981d7ba",
   "metadata": {},
   "outputs": [
    {
     "data": {
      "image/png": "[encoded data removed]",
      "text/plain": [
       "<Figure size 640x480 with 1 Axes>"
      ]
     },
     "metadata": {},
     "output_type": "display_data"
    }
   ],
   "source": [
    "acc_pas = usm.plot_accuracy(X_test, np.array(pd.get_dummies(Y_test)), coeff_pas, inter_pas, is_print = True)"
   ]
  },
  {
   "cell_type": "code",
   "execution_count": 42,
   "id": "c8244190",
   "metadata": {},
   "outputs": [
    {
     "name": "stderr",
     "output_type": "stream",
     "text": [
      "100%|████████████████████████████████████████████████████████████████████████████████| 313/313 [00:39<00:00,  7.97it/s]\n"
     ]
    }
   ],
   "source": [
    "coeff_act, inter_act = usm.uncertain_sampling(X_train, np.array(pd.get_dummies(Y_train)), \n",
    "                           init = 'zero', \n",
    "                           query = 'active',\n",
    "                           width = 2e-1,\n",
    "                           max_iter = 1e4, \n",
    "                           step_size = 2e0, \n",
    "                           warm_start = 0,\n",
    "                           sep_valid = True,\n",
    "                           valid_ratio = 0.5,\n",
    "                           update_freq = 1,\n",
    "                           batch_size = 32)"
   ]
  },
  {
   "cell_type": "code",
   "execution_count": 43,
   "id": "7c0e576f",
   "metadata": {},
   "outputs": [
    {
     "data": {
      "image/png": "[encoded data removed]",
      "text/plain": [
       "<Figure size 640x480 with 1 Axes>"
      ]
     },
     "metadata": {},
     "output_type": "display_data"
    }
   ],
   "source": [
    "acc_act = usm.plot_accuracy(X_test, np.array(pd.get_dummies(Y_test)), coeff_act, inter_act, is_print = True)"
   ]
  },
  {
   "cell_type": "code",
   "execution_count": 44,
   "id": "2acee5f0",
   "metadata": {},
   "outputs": [
    {
     "data": {
      "image/png": "[encoded data removed]",
      "text/plain": [
       "<Figure size 640x480 with 1 Axes>"
      ]
     },
     "metadata": {},
     "output_type": "display_data"
    }
   ],
   "source": [
    "plt.plot(acc_pas, label = 'passive')\n",
    "plt.plot(acc_act, label = 'active')\n",
    "plt.legend()\n",
    "plt.show()"
   ]
  },
  {
   "cell_type": "code",
   "execution_count": 45,
   "id": "99dc1e66",
   "metadata": {},
   "outputs": [
    {
     "name": "stdout",
     "output_type": "stream",
     "text": [
      "************************\n",
      " trial 1\n"
     ]
    },
    {
     "name": "stderr",
     "output_type": "stream",
     "text": [
      "100%|██████████████████████████████████████████████████████████████████████████████| 313/313 [00:00<00:00, 6236.16it/s]\n",
      "100%|████████████████████████████████████████████████████████████████████████████████| 313/313 [00:40<00:00,  7.77it/s]\n"
     ]
    },
    {
     "name": "stdout",
     "output_type": "stream",
     "text": [
      "************************\n",
      " trial 2\n"
     ]
    },
    {
     "name": "stderr",
     "output_type": "stream",
     "text": [
      "100%|██████████████████████████████████████████████████████████████████████████████| 313/313 [00:00<00:00, 6207.41it/s]\n",
      "100%|████████████████████████████████████████████████████████████████████████████████| 313/313 [00:39<00:00,  7.98it/s]\n"
     ]
    },
    {
     "name": "stdout",
     "output_type": "stream",
     "text": [
      "************************\n",
      " trial 3\n"
     ]
    },
    {
     "name": "stderr",
     "output_type": "stream",
     "text": [
      "100%|██████████████████████████████████████████████████████████████████████████████| 313/313 [00:00<00:00, 4734.97it/s]\n",
      "100%|████████████████████████████████████████████████████████████████████████████████| 313/313 [00:38<00:00,  8.04it/s]\n"
     ]
    },
    {
     "name": "stdout",
     "output_type": "stream",
     "text": [
      "************************\n",
      " trial 4\n"
     ]
    },
    {
     "name": "stderr",
     "output_type": "stream",
     "text": [
      "100%|██████████████████████████████████████████████████████████████████████████████| 313/313 [00:00<00:00, 6153.55it/s]\n",
      "100%|████████████████████████████████████████████████████████████████████████████████| 313/313 [00:40<00:00,  7.67it/s]\n"
     ]
    },
    {
     "name": "stdout",
     "output_type": "stream",
     "text": [
      "************************\n",
      " trial 5\n"
     ]
    },
    {
     "name": "stderr",
     "output_type": "stream",
     "text": [
      "100%|██████████████████████████████████████████████████████████████████████████████| 313/313 [00:00<00:00, 5460.83it/s]\n",
      "100%|████████████████████████████████████████████████████████████████████████████████| 313/313 [00:40<00:00,  7.77it/s]\n"
     ]
    },
    {
     "name": "stdout",
     "output_type": "stream",
     "text": [
      "************************\n",
      " trial 6\n"
     ]
    },
    {
     "name": "stderr",
     "output_type": "stream",
     "text": [
      "100%|██████████████████████████████████████████████████████████████████████████████| 313/313 [00:00<00:00, 5606.07it/s]\n",
      "100%|████████████████████████████████████████████████████████████████████████████████| 313/313 [00:40<00:00,  7.70it/s]\n"
     ]
    },
    {
     "name": "stdout",
     "output_type": "stream",
     "text": [
      "************************\n",
      " trial 7\n"
     ]
    },
    {
     "name": "stderr",
     "output_type": "stream",
     "text": [
      "100%|██████████████████████████████████████████████████████████████████████████████| 313/313 [00:00<00:00, 5351.06it/s]\n",
      "100%|████████████████████████████████████████████████████████████████████████████████| 313/313 [00:39<00:00,  7.84it/s]\n"
     ]
    },
    {
     "name": "stdout",
     "output_type": "stream",
     "text": [
      "************************\n",
      " trial 8\n"
     ]
    },
    {
     "name": "stderr",
     "output_type": "stream",
     "text": [
      "100%|██████████████████████████████████████████████████████████████████████████████| 313/313 [00:00<00:00, 5796.64it/s]\n",
      "100%|████████████████████████████████████████████████████████████████████████████████| 313/313 [00:40<00:00,  7.75it/s]\n"
     ]
    },
    {
     "name": "stdout",
     "output_type": "stream",
     "text": [
      "************************\n",
      " trial 9\n"
     ]
    },
    {
     "name": "stderr",
     "output_type": "stream",
     "text": [
      "100%|██████████████████████████████████████████████████████████████████████████████| 313/313 [00:00<00:00, 6137.53it/s]\n",
      "100%|████████████████████████████████████████████████████████████████████████████████| 313/313 [00:39<00:00,  7.86it/s]\n"
     ]
    },
    {
     "name": "stdout",
     "output_type": "stream",
     "text": [
      "************************\n",
      " trial 10\n"
     ]
    },
    {
     "name": "stderr",
     "output_type": "stream",
     "text": [
      "100%|██████████████████████████████████████████████████████████████████████████████| 313/313 [00:00<00:00, 5013.91it/s]\n",
      "100%|████████████████████████████████████████████████████████████████████████████████| 313/313 [00:41<00:00,  7.61it/s]\n"
     ]
    },
    {
     "name": "stdout",
     "output_type": "stream",
     "text": [
      "************************\n",
      " trial 11\n"
     ]
    },
    {
     "name": "stderr",
     "output_type": "stream",
     "text": [
      "100%|██████████████████████████████████████████████████████████████████████████████| 313/313 [00:00<00:00, 5305.17it/s]\n",
      "100%|████████████████████████████████████████████████████████████████████████████████| 313/313 [00:39<00:00,  7.89it/s]\n"
     ]
    },
    {
     "name": "stdout",
     "output_type": "stream",
     "text": [
      "************************\n",
      " trial 12\n"
     ]
    },
    {
     "name": "stderr",
     "output_type": "stream",
     "text": [
      "100%|██████████████████████████████████████████████████████████████████████████████| 313/313 [00:00<00:00, 6272.96it/s]\n",
      "100%|████████████████████████████████████████████████████████████████████████████████| 313/313 [00:39<00:00,  7.96it/s]\n"
     ]
    },
    {
     "name": "stdout",
     "output_type": "stream",
     "text": [
      "************************\n",
      " trial 13\n"
     ]
    },
    {
     "name": "stderr",
     "output_type": "stream",
     "text": [
      "100%|██████████████████████████████████████████████████████████████████████████████| 313/313 [00:00<00:00, 6215.87it/s]\n",
      "100%|████████████████████████████████████████████████████████████████████████████████| 313/313 [00:38<00:00,  8.08it/s]\n"
     ]
    },
    {
     "name": "stdout",
     "output_type": "stream",
     "text": [
      "************************\n",
      " trial 14\n"
     ]
    },
    {
     "name": "stderr",
     "output_type": "stream",
     "text": [
      "100%|██████████████████████████████████████████████████████████████████████████████| 313/313 [00:00<00:00, 4740.37it/s]\n",
      "100%|████████████████████████████████████████████████████████████████████████████████| 313/313 [00:39<00:00,  8.02it/s]\n"
     ]
    },
    {
     "name": "stdout",
     "output_type": "stream",
     "text": [
      "************************\n",
      " trial 15\n"
     ]
    },
    {
     "name": "stderr",
     "output_type": "stream",
     "text": [
      "100%|██████████████████████████████████████████████████████████████████████████████| 313/313 [00:00<00:00, 5873.25it/s]\n",
      "100%|████████████████████████████████████████████████████████████████████████████████| 313/313 [00:38<00:00,  8.08it/s]\n"
     ]
    },
    {
     "name": "stdout",
     "output_type": "stream",
     "text": [
      "************************\n",
      " trial 16\n"
     ]
    },
    {
     "name": "stderr",
     "output_type": "stream",
     "text": [
      "100%|██████████████████████████████████████████████████████████████████████████████| 313/313 [00:00<00:00, 6916.01it/s]\n",
      "100%|████████████████████████████████████████████████████████████████████████████████| 313/313 [00:39<00:00,  8.00it/s]\n"
     ]
    },
    {
     "name": "stdout",
     "output_type": "stream",
     "text": [
      "************************\n",
      " trial 17\n"
     ]
    },
    {
     "name": "stderr",
     "output_type": "stream",
     "text": [
      "100%|██████████████████████████████████████████████████████████████████████████████| 313/313 [00:00<00:00, 5357.28it/s]\n",
      "100%|████████████████████████████████████████████████████████████████████████████████| 313/313 [00:38<00:00,  8.07it/s]\n"
     ]
    },
    {
     "name": "stdout",
     "output_type": "stream",
     "text": [
      "************************\n",
      " trial 18\n"
     ]
    },
    {
     "name": "stderr",
     "output_type": "stream",
     "text": [
      "100%|██████████████████████████████████████████████████████████████████████████████| 313/313 [00:00<00:00, 5376.17it/s]\n",
      "100%|████████████████████████████████████████████████████████████████████████████████| 313/313 [00:39<00:00,  7.95it/s]\n"
     ]
    },
    {
     "name": "stdout",
     "output_type": "stream",
     "text": [
      "************************\n",
      " trial 19\n"
     ]
    },
    {
     "name": "stderr",
     "output_type": "stream",
     "text": [
      "100%|██████████████████████████████████████████████████████████████████████████████| 313/313 [00:00<00:00, 5452.08it/s]\n",
      "100%|████████████████████████████████████████████████████████████████████████████████| 313/313 [00:38<00:00,  8.05it/s]\n"
     ]
    },
    {
     "name": "stdout",
     "output_type": "stream",
     "text": [
      "************************\n",
      " trial 20\n"
     ]
    },
    {
     "name": "stderr",
     "output_type": "stream",
     "text": [
      "100%|██████████████████████████████████████████████████████████████████████████████| 313/313 [00:00<00:00, 6669.12it/s]\n",
      "100%|████████████████████████████████████████████████████████████████████████████████| 313/313 [00:39<00:00,  7.99it/s]\n"
     ]
    },
    {
     "name": "stdout",
     "output_type": "stream",
     "text": [
      "************************\n",
      " trial 21\n"
     ]
    },
    {
     "name": "stderr",
     "output_type": "stream",
     "text": [
      "100%|██████████████████████████████████████████████████████████████████████████████| 313/313 [00:00<00:00, 6533.83it/s]\n",
      "100%|████████████████████████████████████████████████████████████████████████████████| 313/313 [00:38<00:00,  8.09it/s]\n"
     ]
    },
    {
     "name": "stdout",
     "output_type": "stream",
     "text": [
      "************************\n",
      " trial 22\n"
     ]
    },
    {
     "name": "stderr",
     "output_type": "stream",
     "text": [
      "100%|██████████████████████████████████████████████████████████████████████████████| 313/313 [00:00<00:00, 5897.73it/s]\n",
      "100%|████████████████████████████████████████████████████████████████████████████████| 313/313 [00:39<00:00,  8.02it/s]\n"
     ]
    },
    {
     "name": "stdout",
     "output_type": "stream",
     "text": [
      "************************\n",
      " trial 23\n"
     ]
    },
    {
     "name": "stderr",
     "output_type": "stream",
     "text": [
      "100%|██████████████████████████████████████████████████████████████████████████████| 313/313 [00:00<00:00, 5548.26it/s]\n",
      "100%|████████████████████████████████████████████████████████████████████████████████| 313/313 [00:38<00:00,  8.09it/s]\n"
     ]
    },
    {
     "name": "stdout",
     "output_type": "stream",
     "text": [
      "************************\n",
      " trial 24\n"
     ]
    },
    {
     "name": "stderr",
     "output_type": "stream",
     "text": [
      "100%|██████████████████████████████████████████████████████████████████████████████| 313/313 [00:00<00:00, 6087.69it/s]\n",
      "100%|████████████████████████████████████████████████████████████████████████████████| 313/313 [00:38<00:00,  8.07it/s]\n"
     ]
    },
    {
     "name": "stdout",
     "output_type": "stream",
     "text": [
      "************************\n",
      " trial 25\n"
     ]
    },
    {
     "name": "stderr",
     "output_type": "stream",
     "text": [
      "100%|██████████████████████████████████████████████████████████████████████████████| 313/313 [00:00<00:00, 7644.52it/s]\n",
      "100%|████████████████████████████████████████████████████████████████████████████████| 313/313 [00:38<00:00,  8.13it/s]\n"
     ]
    },
    {
     "name": "stdout",
     "output_type": "stream",
     "text": [
      "************************\n",
      " trial 26\n"
     ]
    },
    {
     "name": "stderr",
     "output_type": "stream",
     "text": [
      "100%|██████████████████████████████████████████████████████████████████████████████| 313/313 [00:00<00:00, 6098.89it/s]\n",
      "100%|████████████████████████████████████████████████████████████████████████████████| 313/313 [00:38<00:00,  8.04it/s]\n"
     ]
    },
    {
     "name": "stdout",
     "output_type": "stream",
     "text": [
      "************************\n",
      " trial 27\n"
     ]
    },
    {
     "name": "stderr",
     "output_type": "stream",
     "text": [
      "100%|██████████████████████████████████████████████████████████████████████████████| 313/313 [00:00<00:00, 8170.79it/s]\n",
      "100%|████████████████████████████████████████████████████████████████████████████████| 313/313 [00:38<00:00,  8.13it/s]\n"
     ]
    },
    {
     "name": "stdout",
     "output_type": "stream",
     "text": [
      "************************\n",
      " trial 28\n"
     ]
    },
    {
     "name": "stderr",
     "output_type": "stream",
     "text": [
      "100%|██████████████████████████████████████████████████████████████████████████████| 313/313 [00:00<00:00, 5085.46it/s]\n",
      "100%|████████████████████████████████████████████████████████████████████████████████| 313/313 [00:38<00:00,  8.06it/s]\n"
     ]
    },
    {
     "name": "stdout",
     "output_type": "stream",
     "text": [
      "************************\n",
      " trial 29\n"
     ]
    },
    {
     "name": "stderr",
     "output_type": "stream",
     "text": [
      "100%|██████████████████████████████████████████████████████████████████████████████| 313/313 [00:00<00:00, 4907.76it/s]\n",
      "100%|████████████████████████████████████████████████████████████████████████████████| 313/313 [00:38<00:00,  8.10it/s]\n"
     ]
    },
    {
     "name": "stdout",
     "output_type": "stream",
     "text": [
      "************************\n",
      " trial 30\n"
     ]
    },
    {
     "name": "stderr",
     "output_type": "stream",
     "text": [
      "100%|██████████████████████████████████████████████████████████████████████████████| 313/313 [00:00<00:00, 6795.26it/s]\n",
      "100%|████████████████████████████████████████████████████████████████████████████████| 313/313 [00:38<00:00,  8.07it/s]\n"
     ]
    }
   ],
   "source": [
    "trials = 30\n",
    "steps = 10000\n",
    "batch_size = 32\n",
    "is_first = True\n",
    "for t in range(trials):\n",
    "    print(\"************************\\n trial\", t + 1)\n",
    "    X_train, X_test, Y_train, Y_test = model_selection.train_test_split(X, Y, train_size=0.80, test_size=0.20)\n",
    "    init = np.random.normal(size = (X_train.shape[1] + 1, np.array(pd.get_dummies(Y_train).shape[1])))\n",
    "    coeff_pas_lgr, inter_pas_lgr = usm.uncertain_sampling(X_train, np.array(pd.get_dummies(Y_train), dtype = int),\n",
    "                                              init_method = 'fixed',\n",
    "                                              init = np.copy(init), \n",
    "                                              query = 'passive',\n",
    "                                              max_iter = steps, \n",
    "                                              step_size = 2e0, \n",
    "                                              batch_size = batch_size,\n",
    "                                              method = 'logistic_regression')\n",
    "    coeff_act_lgr, inter_act_lgr = usm.uncertain_sampling(X_train, np.array(pd.get_dummies(Y_train), dtype = int), \n",
    "                                              init_method = 'fixed',\n",
    "                                              init = np.copy(init), \n",
    "                                              query = 'active',\n",
    "                                              width = 2e-1,\n",
    "                                              max_iter = steps, \n",
    "                                              step_size = 2e0, \n",
    "                                              warm_start = 0,\n",
    "                                              sep_valid = True,\n",
    "                                              valid_ratio = 0.5,\n",
    "                                              update_freq = 1,\n",
    "                                              batch_size = batch_size,\n",
    "                                              method = 'logistic_regression')\n",
    "    if is_first:\n",
    "        acc_pas_lgr = np.asarray(usm.plot_accuracy(X_test, np.array(pd.get_dummies(Y_test)), coeff_pas_lgr, inter_pas_lgr)) / float(trials)\n",
    "        acc_act_lgr = np.asarray(usm.plot_accuracy(X_test, np.array(pd.get_dummies(Y_test)), coeff_act_lgr, inter_act_lgr)) / float(trials)\n",
    "        is_first = False\n",
    "    else:\n",
    "        acc_pas_lgr += np.asarray(usm.plot_accuracy(X_test, np.array(pd.get_dummies(Y_test)), coeff_pas_lgr, inter_pas_lgr)) / float(trials)\n",
    "        acc_act_lgr += np.asarray(usm.plot_accuracy(X_test, np.array(pd.get_dummies(Y_test)), coeff_act_lgr, inter_act_lgr)) / float(trials)"
   ]
  },
  {
   "cell_type": "code",
   "execution_count": 46,
   "id": "994e4267",
   "metadata": {},
   "outputs": [
    {
     "data": {
      "image/png": "[encoded data removed]",
      "text/plain": [
       "<Figure size 640x480 with 1 Axes>"
      ]
     },
     "metadata": {},
     "output_type": "display_data"
    }
   ],
   "source": [
    "grid = np.arange(0, steps, batch_size)\n",
    "grid = np.concatenate((grid, np.atleast_1d(steps)))\n",
    "plt.plot(grid, acc_pas_lgr, label = 'passive', linestyle = 'dotted')\n",
    "plt.plot(grid, acc_act_lgr, label = 'active', linestyle = 'solid')\n",
    "plt.legend()\n",
    "plt.xlabel('steps')\n",
    "plt.ylabel('accuracy')\n",
    "plt.show()"
   ]
  },
  {
   "cell_type": "code",
   "execution_count": 47,
   "id": "67a85ffb",
   "metadata": {},
   "outputs": [
    {
     "name": "stderr",
     "output_type": "stream",
     "text": [
      "100%|██████████████████████████████████████████████████████████████████████████████| 313/313 [00:00<00:00, 4768.21it/s]\n"
     ]
    }
   ],
   "source": [
    "coeff_pas_svm, inter_pas_svm = usm.uncertain_sampling(X_train, np.array(pd.get_dummies(Y_train), dtype = int), \n",
    "                                                       init = 'zero', \n",
    "                                                       query = 'passive',\n",
    "                                                       max_iter = 1e4, \n",
    "                                                       step_size = 5e-1, \n",
    "                                                       batch_size = 32,\n",
    "                                                       method = 'svm')"
   ]
  },
  {
   "cell_type": "code",
   "execution_count": 48,
   "id": "65ae42bd",
   "metadata": {},
   "outputs": [
    {
     "data": {
      "image/png": "[encoded data removed]",
      "text/plain": [
       "<Figure size 640x480 with 1 Axes>"
      ]
     },
     "metadata": {},
     "output_type": "display_data"
    }
   ],
   "source": [
    "acc_pas_svm = usm.plot_accuracy(X_test, np.array(pd.get_dummies(Y_test)), coeff_pas_svm, inter_pas_svm, is_print = True, method = 'svm')"
   ]
  },
  {
   "cell_type": "code",
   "execution_count": 49,
   "id": "bae5a45b",
   "metadata": {},
   "outputs": [
    {
     "name": "stderr",
     "output_type": "stream",
     "text": [
      "100%|████████████████████████████████████████████████████████████████████████████████| 313/313 [00:39<00:00,  7.93it/s]\n"
     ]
    }
   ],
   "source": [
    "coeff_act_svm, inter_act_svm = usm.uncertain_sampling(X_train, np.array(pd.get_dummies(Y_train), dtype = int), \n",
    "                                                       init = 'zero', \n",
    "                                                       query = 'active',\n",
    "                                                       width = 2e-1,\n",
    "                                                       max_iter = 1e4, \n",
    "                                                       step_size = 5e-1, \n",
    "                                                       warm_start = 0,\n",
    "                                                       sep_valid = True,\n",
    "                                                       valid_ratio = 0.5,\n",
    "                                                       update_freq = 1,\n",
    "                                                       batch_size = 32,\n",
    "                                                       method = 'svm')"
   ]
  },
  {
   "cell_type": "code",
   "execution_count": 50,
   "id": "30d398e9",
   "metadata": {},
   "outputs": [
    {
     "data": {
      "image/png": "[encoded data removed]",
      "text/plain": [
       "<Figure size 640x480 with 1 Axes>"
      ]
     },
     "metadata": {},
     "output_type": "display_data"
    }
   ],
   "source": [
    "acc_act_svm = usm.plot_accuracy(X_test, np.array(pd.get_dummies(Y_test)), coeff_act_svm, inter_act_svm, is_print = True, method = 'svm')"
   ]
  },
  {
   "cell_type": "code",
   "execution_count": 51,
   "id": "552e8f99",
   "metadata": {},
   "outputs": [
    {
     "name": "stdout",
     "output_type": "stream",
     "text": [
      "************************\n",
      " trial 1\n"
     ]
    },
    {
     "name": "stderr",
     "output_type": "stream",
     "text": [
      "100%|██████████████████████████████████████████████████████████████████████████████| 313/313 [00:00<00:00, 4765.67it/s]\n",
      "100%|████████████████████████████████████████████████████████████████████████████████| 313/313 [00:40<00:00,  7.72it/s]\n"
     ]
    },
    {
     "name": "stdout",
     "output_type": "stream",
     "text": [
      "************************\n",
      " trial 2\n"
     ]
    },
    {
     "name": "stderr",
     "output_type": "stream",
     "text": [
      "100%|██████████████████████████████████████████████████████████████████████████████| 313/313 [00:00<00:00, 4022.91it/s]\n",
      "100%|████████████████████████████████████████████████████████████████████████████████| 313/313 [00:39<00:00,  7.88it/s]\n"
     ]
    },
    {
     "name": "stdout",
     "output_type": "stream",
     "text": [
      "************************\n",
      " trial 3\n"
     ]
    },
    {
     "name": "stderr",
     "output_type": "stream",
     "text": [
      "100%|██████████████████████████████████████████████████████████████████████████████| 313/313 [00:00<00:00, 4591.78it/s]\n",
      "100%|████████████████████████████████████████████████████████████████████████████████| 313/313 [00:39<00:00,  7.96it/s]\n"
     ]
    },
    {
     "name": "stdout",
     "output_type": "stream",
     "text": [
      "************************\n",
      " trial 4\n"
     ]
    },
    {
     "name": "stderr",
     "output_type": "stream",
     "text": [
      "100%|██████████████████████████████████████████████████████████████████████████████| 313/313 [00:00<00:00, 3518.59it/s]\n",
      "100%|████████████████████████████████████████████████████████████████████████████████| 313/313 [00:39<00:00,  7.91it/s]\n"
     ]
    },
    {
     "name": "stdout",
     "output_type": "stream",
     "text": [
      "************************\n",
      " trial 5\n"
     ]
    },
    {
     "name": "stderr",
     "output_type": "stream",
     "text": [
      "100%|██████████████████████████████████████████████████████████████████████████████| 313/313 [00:00<00:00, 4071.03it/s]\n",
      "100%|████████████████████████████████████████████████████████████████████████████████| 313/313 [00:39<00:00,  7.90it/s]\n"
     ]
    },
    {
     "name": "stdout",
     "output_type": "stream",
     "text": [
      "************************\n",
      " trial 6\n"
     ]
    },
    {
     "name": "stderr",
     "output_type": "stream",
     "text": [
      "100%|██████████████████████████████████████████████████████████████████████████████| 313/313 [00:00<00:00, 5140.24it/s]\n",
      "100%|████████████████████████████████████████████████████████████████████████████████| 313/313 [00:39<00:00,  7.90it/s]\n"
     ]
    },
    {
     "name": "stdout",
     "output_type": "stream",
     "text": [
      "************************\n",
      " trial 7\n"
     ]
    },
    {
     "name": "stderr",
     "output_type": "stream",
     "text": [
      "100%|██████████████████████████████████████████████████████████████████████████████| 313/313 [00:00<00:00, 4699.85it/s]\n",
      "100%|████████████████████████████████████████████████████████████████████████████████| 313/313 [00:39<00:00,  7.99it/s]\n"
     ]
    },
    {
     "name": "stdout",
     "output_type": "stream",
     "text": [
      "************************\n",
      " trial 8\n"
     ]
    },
    {
     "name": "stderr",
     "output_type": "stream",
     "text": [
      "100%|██████████████████████████████████████████████████████████████████████████████| 313/313 [00:00<00:00, 4561.81it/s]\n",
      "100%|████████████████████████████████████████████████████████████████████████████████| 313/313 [00:39<00:00,  7.87it/s]\n"
     ]
    },
    {
     "name": "stdout",
     "output_type": "stream",
     "text": [
      "************************\n",
      " trial 9\n"
     ]
    },
    {
     "name": "stderr",
     "output_type": "stream",
     "text": [
      "100%|██████████████████████████████████████████████████████████████████████████████| 313/313 [00:00<00:00, 4278.79it/s]\n",
      "100%|████████████████████████████████████████████████████████████████████████████████| 313/313 [00:39<00:00,  8.00it/s]\n"
     ]
    },
    {
     "name": "stdout",
     "output_type": "stream",
     "text": [
      "************************\n",
      " trial 10\n"
     ]
    },
    {
     "name": "stderr",
     "output_type": "stream",
     "text": [
      "100%|██████████████████████████████████████████████████████████████████████████████| 313/313 [00:00<00:00, 4454.02it/s]\n",
      "100%|████████████████████████████████████████████████████████████████████████████████| 313/313 [00:39<00:00,  7.99it/s]\n"
     ]
    },
    {
     "name": "stdout",
     "output_type": "stream",
     "text": [
      "************************\n",
      " trial 11\n"
     ]
    },
    {
     "name": "stderr",
     "output_type": "stream",
     "text": [
      "100%|██████████████████████████████████████████████████████████████████████████████| 313/313 [00:00<00:00, 4803.03it/s]\n",
      "100%|████████████████████████████████████████████████████████████████████████████████| 313/313 [00:38<00:00,  8.05it/s]\n"
     ]
    },
    {
     "name": "stdout",
     "output_type": "stream",
     "text": [
      "************************\n",
      " trial 12\n"
     ]
    },
    {
     "name": "stderr",
     "output_type": "stream",
     "text": [
      "100%|██████████████████████████████████████████████████████████████████████████████| 313/313 [00:00<00:00, 4624.66it/s]\n",
      "100%|████████████████████████████████████████████████████████████████████████████████| 313/313 [00:39<00:00,  7.98it/s]\n"
     ]
    },
    {
     "name": "stdout",
     "output_type": "stream",
     "text": [
      "************************\n",
      " trial 13\n"
     ]
    },
    {
     "name": "stderr",
     "output_type": "stream",
     "text": [
      "100%|██████████████████████████████████████████████████████████████████████████████| 313/313 [00:00<00:00, 4073.18it/s]\n",
      "100%|████████████████████████████████████████████████████████████████████████████████| 313/313 [00:38<00:00,  8.11it/s]\n"
     ]
    },
    {
     "name": "stdout",
     "output_type": "stream",
     "text": [
      "************************\n",
      " trial 14\n"
     ]
    },
    {
     "name": "stderr",
     "output_type": "stream",
     "text": [
      "100%|██████████████████████████████████████████████████████████████████████████████| 313/313 [00:00<00:00, 4383.11it/s]\n",
      "100%|████████████████████████████████████████████████████████████████████████████████| 313/313 [00:39<00:00,  8.02it/s]\n"
     ]
    },
    {
     "name": "stdout",
     "output_type": "stream",
     "text": [
      "************************\n",
      " trial 15\n"
     ]
    },
    {
     "name": "stderr",
     "output_type": "stream",
     "text": [
      "100%|██████████████████████████████████████████████████████████████████████████████| 313/313 [00:00<00:00, 4568.86it/s]\n",
      "100%|████████████████████████████████████████████████████████████████████████████████| 313/313 [00:38<00:00,  8.06it/s]\n"
     ]
    },
    {
     "name": "stdout",
     "output_type": "stream",
     "text": [
      "************************\n",
      " trial 16\n"
     ]
    },
    {
     "name": "stderr",
     "output_type": "stream",
     "text": [
      "100%|██████████████████████████████████████████████████████████████████████████████| 313/313 [00:00<00:00, 4241.71it/s]\n",
      "100%|████████████████████████████████████████████████████████████████████████████████| 313/313 [00:39<00:00,  8.00it/s]\n"
     ]
    },
    {
     "name": "stdout",
     "output_type": "stream",
     "text": [
      "************************\n",
      " trial 17\n"
     ]
    },
    {
     "name": "stderr",
     "output_type": "stream",
     "text": [
      "100%|██████████████████████████████████████████████████████████████████████████████| 313/313 [00:00<00:00, 4731.15it/s]\n",
      "100%|████████████████████████████████████████████████████████████████████████████████| 313/313 [00:39<00:00,  7.93it/s]\n"
     ]
    },
    {
     "name": "stdout",
     "output_type": "stream",
     "text": [
      "************************\n",
      " trial 18\n"
     ]
    },
    {
     "name": "stderr",
     "output_type": "stream",
     "text": [
      "100%|██████████████████████████████████████████████████████████████████████████████| 313/313 [00:00<00:00, 5357.23it/s]\n",
      "100%|████████████████████████████████████████████████████████████████████████████████| 313/313 [00:38<00:00,  8.05it/s]\n"
     ]
    },
    {
     "name": "stdout",
     "output_type": "stream",
     "text": [
      "************************\n",
      " trial 19\n"
     ]
    },
    {
     "name": "stderr",
     "output_type": "stream",
     "text": [
      "100%|██████████████████████████████████████████████████████████████████████████████| 313/313 [00:00<00:00, 4667.89it/s]\n",
      "100%|████████████████████████████████████████████████████████████████████████████████| 313/313 [00:39<00:00,  8.02it/s]\n"
     ]
    },
    {
     "name": "stdout",
     "output_type": "stream",
     "text": [
      "************************\n",
      " trial 20\n"
     ]
    },
    {
     "name": "stderr",
     "output_type": "stream",
     "text": [
      "100%|██████████████████████████████████████████████████████████████████████████████| 313/313 [00:00<00:00, 4290.53it/s]\n",
      "100%|████████████████████████████████████████████████████████████████████████████████| 313/313 [00:38<00:00,  8.05it/s]\n"
     ]
    },
    {
     "name": "stdout",
     "output_type": "stream",
     "text": [
      "************************\n",
      " trial 21\n"
     ]
    },
    {
     "name": "stderr",
     "output_type": "stream",
     "text": [
      "100%|██████████████████████████████████████████████████████████████████████████████| 313/313 [00:00<00:00, 4724.73it/s]\n",
      "100%|████████████████████████████████████████████████████████████████████████████████| 313/313 [00:39<00:00,  8.01it/s]\n"
     ]
    },
    {
     "name": "stdout",
     "output_type": "stream",
     "text": [
      "************************\n",
      " trial 22\n"
     ]
    },
    {
     "name": "stderr",
     "output_type": "stream",
     "text": [
      "100%|██████████████████████████████████████████████████████████████████████████████| 313/313 [00:00<00:00, 4433.20it/s]\n",
      "100%|████████████████████████████████████████████████████████████████████████████████| 313/313 [00:38<00:00,  8.04it/s]\n"
     ]
    },
    {
     "name": "stdout",
     "output_type": "stream",
     "text": [
      "************************\n",
      " trial 23\n"
     ]
    },
    {
     "name": "stderr",
     "output_type": "stream",
     "text": [
      "100%|██████████████████████████████████████████████████████████████████████████████| 313/313 [00:00<00:00, 4215.18it/s]\n",
      "100%|████████████████████████████████████████████████████████████████████████████████| 313/313 [00:39<00:00,  8.02it/s]\n"
     ]
    },
    {
     "name": "stdout",
     "output_type": "stream",
     "text": [
      "************************\n",
      " trial 24\n"
     ]
    },
    {
     "name": "stderr",
     "output_type": "stream",
     "text": [
      "100%|██████████████████████████████████████████████████████████████████████████████| 313/313 [00:00<00:00, 4555.47it/s]\n",
      "100%|████████████████████████████████████████████████████████████████████████████████| 313/313 [00:39<00:00,  7.95it/s]\n"
     ]
    },
    {
     "name": "stdout",
     "output_type": "stream",
     "text": [
      "************************\n",
      " trial 25\n"
     ]
    },
    {
     "name": "stderr",
     "output_type": "stream",
     "text": [
      "100%|██████████████████████████████████████████████████████████████████████████████| 313/313 [00:00<00:00, 4004.30it/s]\n",
      "100%|████████████████████████████████████████████████████████████████████████████████| 313/313 [00:38<00:00,  8.04it/s]\n"
     ]
    },
    {
     "name": "stdout",
     "output_type": "stream",
     "text": [
      "************************\n",
      " trial 26\n"
     ]
    },
    {
     "name": "stderr",
     "output_type": "stream",
     "text": [
      "100%|██████████████████████████████████████████████████████████████████████████████| 313/313 [00:00<00:00, 4924.11it/s]\n",
      "100%|████████████████████████████████████████████████████████████████████████████████| 313/313 [00:39<00:00,  7.99it/s]\n"
     ]
    },
    {
     "name": "stdout",
     "output_type": "stream",
     "text": [
      "************************\n",
      " trial 27\n"
     ]
    },
    {
     "name": "stderr",
     "output_type": "stream",
     "text": [
      "100%|██████████████████████████████████████████████████████████████████████████████| 313/313 [00:00<00:00, 4511.71it/s]\n",
      "100%|████████████████████████████████████████████████████████████████████████████████| 313/313 [00:39<00:00,  8.00it/s]\n"
     ]
    },
    {
     "name": "stdout",
     "output_type": "stream",
     "text": [
      "************************\n",
      " trial 28\n"
     ]
    },
    {
     "name": "stderr",
     "output_type": "stream",
     "text": [
      "100%|██████████████████████████████████████████████████████████████████████████████| 313/313 [00:00<00:00, 4709.79it/s]\n",
      "100%|████████████████████████████████████████████████████████████████████████████████| 313/313 [00:39<00:00,  8.00it/s]\n"
     ]
    },
    {
     "name": "stdout",
     "output_type": "stream",
     "text": [
      "************************\n",
      " trial 29\n"
     ]
    },
    {
     "name": "stderr",
     "output_type": "stream",
     "text": [
      "100%|██████████████████████████████████████████████████████████████████████████████| 313/313 [00:00<00:00, 5231.99it/s]\n",
      "100%|████████████████████████████████████████████████████████████████████████████████| 313/313 [00:38<00:00,  8.04it/s]\n"
     ]
    },
    {
     "name": "stdout",
     "output_type": "stream",
     "text": [
      "************************\n",
      " trial 30\n"
     ]
    },
    {
     "name": "stderr",
     "output_type": "stream",
     "text": [
      "100%|██████████████████████████████████████████████████████████████████████████████| 313/313 [00:00<00:00, 4695.71it/s]\n",
      "100%|████████████████████████████████████████████████████████████████████████████████| 313/313 [00:38<00:00,  8.03it/s]\n"
     ]
    }
   ],
   "source": [
    "trials = 30\n",
    "steps = 10000\n",
    "batch_size = 32\n",
    "is_first = True\n",
    "for t in range(trials):\n",
    "    print(\"************************\\n trial\", t + 1)\n",
    "    X_train, X_test, Y_train, Y_test = model_selection.train_test_split(X, Y, train_size=0.80, test_size=0.20)\n",
    "    init = np.random.normal(size = (X_train.shape[1] + 1, np.array(pd.get_dummies(Y_train).shape[1])))\n",
    "    coeff_pas_svm, inter_pas_svm = usm.uncertain_sampling(X_train, np.array(pd.get_dummies(Y_train), dtype = int),\n",
    "                                                          init_method = 'fixed',\n",
    "                                                          init = np.copy(init), \n",
    "                                                          query = 'passive',\n",
    "                                                          max_iter = steps, \n",
    "                                                          step_size = 5e-1, \n",
    "                                                          batch_size = batch_size,\n",
    "                                                          method = 'svm')\n",
    "    coeff_act_svm, inter_act_svm = usm.uncertain_sampling(X_train, np.array(pd.get_dummies(Y_train), dtype = int), \n",
    "                                                          init_method = 'fixed',\n",
    "                                                          init = np.copy(init), \n",
    "                                                          query = 'active',\n",
    "                                                          width = 2e-1,\n",
    "                                                          max_iter = steps, \n",
    "                                                          step_size = 5e-1, \n",
    "                                                          warm_start = 0,\n",
    "                                                          sep_valid = True,\n",
    "                                                          valid_ratio = 0.5,\n",
    "                                                          update_freq = 1,\n",
    "                                                          batch_size = batch_size,\n",
    "                                                          method = 'svm')\n",
    "    if is_first:\n",
    "        acc_pas_svm = np.asarray(usm.plot_accuracy(X_test, np.array(pd.get_dummies(Y_test)), coeff_pas, inter_pas)) / float(trials)\n",
    "        acc_act_svm = np.asarray(usm.plot_accuracy(X_test, np.array(pd.get_dummies(Y_test)), coeff_act, inter_act)) / float(trials)\n",
    "        is_first = False\n",
    "    else:\n",
    "        acc_pas_svm += np.asarray(usm.plot_accuracy(X_test, np.array(pd.get_dummies(Y_test)), coeff_pas, inter_pas)) / float(trials)\n",
    "        acc_act_svm += np.asarray(usm.plot_accuracy(X_test, np.array(pd.get_dummies(Y_test)), coeff_act, inter_act)) / float(trials)"
   ]
  },
  {
   "cell_type": "code",
   "execution_count": 52,
   "id": "6e7ebcb3",
   "metadata": {},
   "outputs": [
    {
     "data": {
      "image/png": "[encoded data removed]",
      "text/plain": [
       "<Figure size 640x480 with 1 Axes>"
      ]
     },
     "metadata": {},
     "output_type": "display_data"
    }
   ],
   "source": [
    "grid = np.arange(0, steps, batch_size)\n",
    "grid = np.concatenate((grid, np.atleast_1d(steps)))\n",
    "plt.plot(grid, acc_pas_svm, label = 'passive', linestyle = 'dotted')\n",
    "plt.plot(grid, acc_act_svm, label = 'active', linestyle = 'solid')\n",
    "plt.legend()\n",
    "plt.xlabel('steps')\n",
    "plt.ylabel('accuracy')\n",
    "plt.show()"
   ]
  },
  {
   "cell_type": "code",
   "execution_count": 53,
   "id": "49db618b",
   "metadata": {},
   "outputs": [
    {
     "name": "stderr",
     "output_type": "stream",
     "text": [
      "The PostScript backend does not support transparency; partially transparent artists will be rendered opaque.\n"
     ]
    },
    {
     "data": {
      "image/png": "[encoded data removed]",
      "text/plain": [
       "<Figure size 1200x500 with 2 Axes>"
      ]
     },
     "metadata": {},
     "output_type": "display_data"
    }
   ],
   "source": [
    "fig, (ax1, ax2) = plt.subplots(1, 2, figsize = (12, 5))\n",
    "\n",
    "ax1.plot(grid, acc_pas_lgr, label = 'passive', linestyle = 'dotted')\n",
    "ax1.plot(grid, acc_act_lgr, label = 'active', linestyle = 'solid')\n",
    "ax2.plot(grid, acc_pas_svm, label = 'passive', linestyle = 'dotted')\n",
    "ax2.plot(grid, acc_act_svm, label = 'active', linestyle = 'solid')\n",
    "\n",
    "\n",
    "ax1.legend(fontsize=14)\n",
    "ax1.set_xlabel('Steps', fontsize=14)\n",
    "ax1.set_ylabel('Accuracy', fontsize=14)\n",
    "ax1.tick_params(axis='both', which='major', labelsize=12)\n",
    "ax1.tick_params(axis='both', which='minor', labelsize=12)\n",
    "ax2.legend(fontsize=14)\n",
    "ax2.set_xlabel('Steps', fontsize=14)\n",
    "ax2.tick_params(axis='both', which='major', labelsize=12)\n",
    "ax2.tick_params(axis='both', which='minor', labelsize=12)\n",
    "\n",
    "plt.savefig(\"Exp2_covertype.jpg\", bbox_inches='tight')\n",
    "plt.savefig(\"Exp2_covertype.eps\", bbox_inches='tight')\n",
    "plt.show()"
   ]
  }
 ],
 "metadata": {
  "kernelspec": {
   "display_name": "Python 3 (ipykernel)",
   "language": "python",
   "name": "python3"
  },
  "language_info": {
   "codemirror_mode": {
    "name": "ipython",
    "version": 3
   },
   "file_extension": ".py",
   "mimetype": "text/x-python",
   "name": "python",
   "nbconvert_exporter": "python",
   "pygments_lexer": "ipython3",
   "version": "3.8.16"
  }
 },
 "nbformat": 4,
 "nbformat_minor": 5
}
