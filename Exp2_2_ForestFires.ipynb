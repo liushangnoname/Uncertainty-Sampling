{
 "cells": [
  {
   "cell_type": "code",
   "execution_count": 1,
   "id": "08ff3ad5",
   "metadata": {},
   "outputs": [],
   "source": [
    "import numpy as np\n",
    "import pandas as pd\n",
    "from sklearn.linear_model import LinearRegression\n",
    "from sklearn.kernel_ridge import KernelRidge\n",
    "from sklearn.metrics.pairwise import pairwise_kernels\n",
    "import sklearn.model_selection as model_selection\n",
    "from sklearn.metrics import mean_squared_error\n",
    "import uncertainty_sampling_multiclass as usm\n",
    "import matplotlib.pyplot as plt"
   ]
  },
  {
   "cell_type": "code",
   "execution_count": 2,
   "id": "89d52c5a",
   "metadata": {},
   "outputs": [],
   "source": [
    "df = pd.read_csv(\"forestfires.csv\")"
   ]
  },
  {
   "cell_type": "code",
   "execution_count": 3,
   "id": "66db6848",
   "metadata": {},
   "outputs": [],
   "source": [
    "df = pd.get_dummies(df, prefix=['month_', 'day_'])"
   ]
  },
  {
   "cell_type": "code",
   "execution_count": 4,
   "id": "23b42f38",
   "metadata": {},
   "outputs": [
    {
     "name": "stdout",
     "output_type": "stream",
     "text": [
      "(517, 30)\n"
     ]
    }
   ],
   "source": [
    "data = df.values\n",
    "print(data.shape)"
   ]
  },
  {
   "cell_type": "code",
   "execution_count": 5,
   "id": "dc97e8c1",
   "metadata": {},
   "outputs": [],
   "source": [
    "X = np.array(data[:, :-1], dtype = float)"
   ]
  },
  {
   "cell_type": "code",
   "execution_count": 6,
   "id": "9f2c6f84",
   "metadata": {},
   "outputs": [],
   "source": [
    "Y = np.array(data[:, -1:], dtype = float)"
   ]
  },
  {
   "cell_type": "code",
   "execution_count": 7,
   "id": "bd4ead7c",
   "metadata": {},
   "outputs": [
    {
     "name": "stdout",
     "output_type": "stream",
     "text": [
      "float64\n",
      "float64\n"
     ]
    }
   ],
   "source": [
    "print(X.dtype)\n",
    "print(Y.dtype)"
   ]
  },
  {
   "cell_type": "code",
   "execution_count": 8,
   "id": "3d86db7c",
   "metadata": {},
   "outputs": [],
   "source": [
    "def normalize(x):\n",
    "    dim = x.shape[1]\n",
    "    x_min = np.min(x, axis = 0, keepdims = True)\n",
    "    x_max = np.max(x, axis = 0, keepdims = True)\n",
    "    inds = x_max - x_min == 0\n",
    "    norm = x_max - x_min\n",
    "    norm[inds] = 1.0\n",
    "    return np.divide(x - x_min, norm)"
   ]
  },
  {
   "cell_type": "code",
   "execution_count": 9,
   "id": "de6da58f",
   "metadata": {},
   "outputs": [],
   "source": [
    "X = normalize(X)"
   ]
  },
  {
   "cell_type": "code",
   "execution_count": 10,
   "id": "fd591cb7",
   "metadata": {},
   "outputs": [],
   "source": [
    "X_train, X_test, Y_train, Y_test = model_selection.train_test_split(X, Y, train_size=0.80, test_size=0.20, random_state=0)"
   ]
  },
  {
   "cell_type": "code",
   "execution_count": 11,
   "id": "4e21e651",
   "metadata": {},
   "outputs": [],
   "source": [
    "linear = LinearRegression().fit(X_train, Y_train)\n",
    "rbf = KernelRidge(alpha = 0.1, kernel = 'rbf').fit(X_train, Y_train)\n",
    "poly = KernelRidge(alpha = 1.0, kernel = 'poly').fit(X_train, Y_train)"
   ]
  },
  {
   "cell_type": "code",
   "execution_count": 12,
   "id": "1f15df66",
   "metadata": {},
   "outputs": [],
   "source": [
    "linear_pred = linear.predict(X_test)\n",
    "rbf_pred = rbf.predict(X_test)\n",
    "poly_pred = poly.predict(X_test)"
   ]
  },
  {
   "cell_type": "code",
   "execution_count": 13,
   "id": "410d8dc2",
   "metadata": {},
   "outputs": [
    {
     "name": "stdout",
     "output_type": "stream",
     "text": [
      "MSE (Linear):  0.00\n"
     ]
    }
   ],
   "source": [
    "linear_mse = mean_squared_error(Y_test, linear_pred)\n",
    "print('MSE (Linear): ', \"%.2f\" % (linear_mse))"
   ]
  },
  {
   "cell_type": "code",
   "execution_count": 14,
   "id": "a0615272",
   "metadata": {},
   "outputs": [
    {
     "name": "stdout",
     "output_type": "stream",
     "text": [
      "MSE (Rbf):  0.01\n"
     ]
    }
   ],
   "source": [
    "rbf_mse = mean_squared_error(Y_test, rbf_pred)\n",
    "print('MSE (Rbf): ', \"%.2f\" % (rbf_mse))"
   ]
  },
  {
   "cell_type": "code",
   "execution_count": 15,
   "id": "3eea5135",
   "metadata": {},
   "outputs": [
    {
     "name": "stdout",
     "output_type": "stream",
     "text": [
      "MSE (Polynomial):  0.04\n"
     ]
    }
   ],
   "source": [
    "poly_mse = mean_squared_error(Y_test, poly_pred)\n",
    "print('MSE (Polynomial): ', \"%.2f\" % (poly_mse))"
   ]
  },
  {
   "cell_type": "code",
   "execution_count": 16,
   "id": "0bebf175",
   "metadata": {},
   "outputs": [],
   "source": [
    "linear = LinearRegression().fit(X_train, np.log1p(Y_train))\n",
    "rbf = KernelRidge(alpha = 0.1, kernel = 'rbf').fit(X_train, np.log1p(Y_train))\n",
    "poly = KernelRidge(alpha = 1.0, kernel = 'poly').fit(X_train, np.log1p(Y_train))"
   ]
  },
  {
   "cell_type": "code",
   "execution_count": 17,
   "id": "62ddbe51",
   "metadata": {},
   "outputs": [],
   "source": [
    "linear_pred = np.exp(linear.predict(X_test)) - 1.0\n",
    "rbf_pred = np.exp(rbf.predict(X_test)) - 1.0\n",
    "poly_pred = np.exp(poly.predict(X_test)) - 1.0"
   ]
  },
  {
   "cell_type": "code",
   "execution_count": 18,
   "id": "fb5da0ac",
   "metadata": {},
   "outputs": [
    {
     "name": "stdout",
     "output_type": "stream",
     "text": [
      "MSE (Linear):  0.00\n"
     ]
    }
   ],
   "source": [
    "linear_mse = mean_squared_error(Y_test, linear_pred)\n",
    "print('MSE (Linear): ', \"%.2f\" % (linear_mse))"
   ]
  },
  {
   "cell_type": "code",
   "execution_count": 19,
   "id": "acf2a610",
   "metadata": {},
   "outputs": [
    {
     "name": "stdout",
     "output_type": "stream",
     "text": [
      "MSE (Rbf):  0.01\n"
     ]
    }
   ],
   "source": [
    "rbf_mse = mean_squared_error(Y_test, rbf_pred)\n",
    "print('MSE (Rbf): ', \"%.2f\" % (rbf_mse))"
   ]
  },
  {
   "cell_type": "code",
   "execution_count": 20,
   "id": "754024ce",
   "metadata": {},
   "outputs": [
    {
     "name": "stdout",
     "output_type": "stream",
     "text": [
      "MSE (Polynomial):  0.05\n"
     ]
    }
   ],
   "source": [
    "poly_mse = mean_squared_error(Y_test, poly_pred)\n",
    "print('MSE (Polynomial): ', \"%.2f\" % (poly_mse))"
   ]
  },
  {
   "cell_type": "code",
   "execution_count": 35,
   "id": "12bae693",
   "metadata": {},
   "outputs": [
    {
     "name": "stderr",
     "output_type": "stream",
     "text": [
      "100%|█████████████████████████████████████████████████████████████████████████████| 100/100 [00:00<00:00, 12501.65it/s]\n"
     ]
    }
   ],
   "source": [
    "coeff_pas, inter_pas = usm.uncertain_sampling(X_train, np.log1p(Y_train), \n",
    "                           init = 'zero', \n",
    "                           query = 'passive',\n",
    "                           max_iter = 4e2, \n",
    "                           step_size = 1e-2, \n",
    "                           batch_size = 4,\n",
    "                           method = 'linear_regression')"
   ]
  },
  {
   "cell_type": "code",
   "execution_count": 36,
   "id": "e92d0aed",
   "metadata": {},
   "outputs": [
    {
     "data": {
      "image/png": "[encoded data removed]",
      "text/plain": [
       "<Figure size 640x480 with 1 Axes>"
      ]
     },
     "metadata": {},
     "output_type": "display_data"
    }
   ],
   "source": [
    "loss_pas = usm.plot_loss(X_test, Y_test, coeff_pas, inter_pas, is_print = True, log_transform = True)"
   ]
  },
  {
   "cell_type": "code",
   "execution_count": 37,
   "id": "64430133",
   "metadata": {},
   "outputs": [
    {
     "name": "stderr",
     "output_type": "stream",
     "text": [
      "100%|██████████████████████████████████████████████████████████████████████████████| 100/100 [00:00<00:00, 3337.87it/s]\n"
     ]
    }
   ],
   "source": [
    "coeff_act, inter_act = usm.uncertain_sampling(X_train, np.log1p(Y_train), \n",
    "                           init = 'zero', \n",
    "                           query = 'active',\n",
    "                           width = 2e-1,\n",
    "                           max_iter = 4e2, \n",
    "                           step_size = 1e-2, \n",
    "                           warm_start = 0,\n",
    "                           sep_valid = True,\n",
    "                           valid_ratio = 1.0,\n",
    "                           update_freq = 1,\n",
    "                           batch_size = 4,\n",
    "                           method = 'linear_regression')"
   ]
  },
  {
   "cell_type": "code",
   "execution_count": 38,
   "id": "669dc52e",
   "metadata": {},
   "outputs": [
    {
     "data": {
      "image/png": "[encoded data removed]",
      "text/plain": [
       "<Figure size 640x480 with 1 Axes>"
      ]
     },
     "metadata": {},
     "output_type": "display_data"
    }
   ],
   "source": [
    "loss_act = usm.plot_loss(X_test, Y_test, coeff_act, inter_act, is_print = True, log_transform = True)"
   ]
  },
  {
   "cell_type": "code",
   "execution_count": 39,
   "id": "8d8c30e0",
   "metadata": {},
   "outputs": [
    {
     "data": {
      "image/png": "[encoded data removed]",
      "text/plain": [
       "<Figure size 640x480 with 1 Axes>"
      ]
     },
     "metadata": {},
     "output_type": "display_data"
    }
   ],
   "source": [
    "plt.plot(loss_pas, label = 'passive')\n",
    "plt.plot(loss_act, label = 'active')\n",
    "plt.legend()\n",
    "plt.show()"
   ]
  },
  {
   "cell_type": "code",
   "execution_count": 47,
   "id": "99dc1e66",
   "metadata": {},
   "outputs": [
    {
     "name": "stdout",
     "output_type": "stream",
     "text": [
      "************************\n",
      " trial 1\n"
     ]
    },
    {
     "name": "stderr",
     "output_type": "stream",
     "text": [
      "100%|█████████████████████████████████████████████████████████████████████████████| 100/100 [00:00<00:00, 12499.79it/s]\n",
      "100%|██████████████████████████████████████████████████████████████████████████████| 100/100 [00:00<00:00, 3610.21it/s]\n"
     ]
    },
    {
     "name": "stdout",
     "output_type": "stream",
     "text": [
      "************************\n",
      " trial 2\n"
     ]
    },
    {
     "name": "stderr",
     "output_type": "stream",
     "text": [
      "100%|█████████████████████████████████████████████████████████████████████████████| 100/100 [00:00<00:00, 11401.90it/s]\n",
      "100%|██████████████████████████████████████████████████████████████████████████████| 100/100 [00:00<00:00, 3431.88it/s]\n"
     ]
    },
    {
     "name": "stdout",
     "output_type": "stream",
     "text": [
      "************************\n",
      " trial 3\n"
     ]
    },
    {
     "name": "stderr",
     "output_type": "stream",
     "text": [
      "100%|█████████████████████████████████████████████████████████████████████████████| 100/100 [00:00<00:00, 12676.98it/s]\n",
      "100%|██████████████████████████████████████████████████████████████████████████████| 100/100 [00:00<00:00, 3342.69it/s]\n"
     ]
    },
    {
     "name": "stdout",
     "output_type": "stream",
     "text": [
      "************************\n",
      " trial 4\n"
     ]
    },
    {
     "name": "stderr",
     "output_type": "stream",
     "text": [
      "100%|█████████████████████████████████████████████████████████████████████████████| 100/100 [00:00<00:00, 12485.65it/s]\n",
      "100%|██████████████████████████████████████████████████████████████████████████████| 100/100 [00:00<00:00, 3418.79it/s]\n"
     ]
    },
    {
     "name": "stdout",
     "output_type": "stream",
     "text": [
      "************************\n",
      " trial 5\n"
     ]
    },
    {
     "name": "stderr",
     "output_type": "stream",
     "text": [
      "100%|█████████████████████████████████████████████████████████████████████████████| 100/100 [00:00<00:00, 12338.37it/s]\n",
      "100%|██████████████████████████████████████████████████████████████████████████████| 100/100 [00:00<00:00, 3272.68it/s]\n"
     ]
    },
    {
     "name": "stdout",
     "output_type": "stream",
     "text": [
      "************************\n",
      " trial 6\n"
     ]
    },
    {
     "name": "stderr",
     "output_type": "stream",
     "text": [
      "100%|██████████████████████████████████████████████████████████████████████████████| 100/100 [00:00<00:00, 7039.55it/s]\n",
      "100%|██████████████████████████████████████████████████████████████████████████████| 100/100 [00:00<00:00, 3403.91it/s]\n"
     ]
    },
    {
     "name": "stdout",
     "output_type": "stream",
     "text": [
      "************************\n",
      " trial 7\n"
     ]
    },
    {
     "name": "stderr",
     "output_type": "stream",
     "text": [
      "100%|██████████████████████████████████████████████████████████████████████████████| 100/100 [00:00<00:00, 7517.62it/s]\n",
      "100%|██████████████████████████████████████████████████████████████████████████████| 100/100 [00:00<00:00, 3430.90it/s]\n"
     ]
    },
    {
     "name": "stdout",
     "output_type": "stream",
     "text": [
      "************************\n",
      " trial 8\n"
     ]
    },
    {
     "name": "stderr",
     "output_type": "stream",
     "text": [
      "100%|██████████████████████████████████████████████████████████████████████████████| 100/100 [00:00<00:00, 6583.43it/s]\n",
      "100%|██████████████████████████████████████████████████████████████████████████████| 100/100 [00:00<00:00, 3403.00it/s]\n"
     ]
    },
    {
     "name": "stdout",
     "output_type": "stream",
     "text": [
      "************************\n",
      " trial 9\n"
     ]
    },
    {
     "name": "stderr",
     "output_type": "stream",
     "text": [
      "100%|██████████████████████████████████████████████████████████████████████████████| 100/100 [00:00<00:00, 7763.78it/s]\n",
      "100%|██████████████████████████████████████████████████████████████████████████████| 100/100 [00:00<00:00, 2986.44it/s]\n"
     ]
    },
    {
     "name": "stdout",
     "output_type": "stream",
     "text": [
      "************************\n",
      " trial 10\n"
     ]
    },
    {
     "name": "stderr",
     "output_type": "stream",
     "text": [
      "100%|█████████████████████████████████████████████████████████████████████████████| 100/100 [00:00<00:00, 10046.48it/s]\n",
      "100%|██████████████████████████████████████████████████████████████████████████████| 100/100 [00:00<00:00, 3533.68it/s]\n"
     ]
    },
    {
     "name": "stdout",
     "output_type": "stream",
     "text": [
      "************************\n",
      " trial 11\n"
     ]
    },
    {
     "name": "stderr",
     "output_type": "stream",
     "text": [
      "100%|██████████████████████████████████████████████████████████████████████████████| 100/100 [00:00<00:00, 7086.77it/s]\n",
      "100%|██████████████████████████████████████████████████████████████████████████████| 100/100 [00:00<00:00, 3418.95it/s]\n"
     ]
    },
    {
     "name": "stdout",
     "output_type": "stream",
     "text": [
      "************************\n",
      " trial 12\n"
     ]
    },
    {
     "name": "stderr",
     "output_type": "stream",
     "text": [
      "100%|█████████████████████████████████████████████████████████████████████████████| 100/100 [00:00<00:00, 11195.56it/s]\n",
      "100%|██████████████████████████████████████████████████████████████████████████████| 100/100 [00:00<00:00, 3484.71it/s]\n"
     ]
    },
    {
     "name": "stdout",
     "output_type": "stream",
     "text": [
      "************************\n",
      " trial 13\n"
     ]
    },
    {
     "name": "stderr",
     "output_type": "stream",
     "text": [
      "100%|██████████████████████████████████████████████████████████████████████████████| 100/100 [00:00<00:00, 7048.66it/s]\n",
      "100%|██████████████████████████████████████████████████████████████████████████████| 100/100 [00:00<00:00, 3329.79it/s]\n"
     ]
    },
    {
     "name": "stdout",
     "output_type": "stream",
     "text": [
      "************************\n",
      " trial 14\n"
     ]
    },
    {
     "name": "stderr",
     "output_type": "stream",
     "text": [
      "100%|██████████████████████████████████████████████████████████████████████████████| 100/100 [00:00<00:00, 9118.45it/s]\n",
      "100%|██████████████████████████████████████████████████████████████████████████████| 100/100 [00:00<00:00, 4305.47it/s]\n"
     ]
    },
    {
     "name": "stdout",
     "output_type": "stream",
     "text": [
      "************************\n",
      " trial 15\n"
     ]
    },
    {
     "name": "stderr",
     "output_type": "stream",
     "text": [
      "100%|██████████████████████████████████████████████████████████████████████████████| 100/100 [00:00<00:00, 5227.33it/s]\n",
      "100%|██████████████████████████████████████████████████████████████████████████████| 100/100 [00:00<00:00, 2997.67it/s]\n"
     ]
    },
    {
     "name": "stdout",
     "output_type": "stream",
     "text": [
      "************************\n",
      " trial 16\n"
     ]
    },
    {
     "name": "stderr",
     "output_type": "stream",
     "text": [
      "100%|█████████████████████████████████████████████████████████████████████████████| 100/100 [00:00<00:00, 12166.57it/s]\n",
      "100%|██████████████████████████████████████████████████████████████████████████████| 100/100 [00:00<00:00, 3538.24it/s]\n"
     ]
    },
    {
     "name": "stdout",
     "output_type": "stream",
     "text": [
      "************************\n",
      " trial 17\n"
     ]
    },
    {
     "name": "stderr",
     "output_type": "stream",
     "text": [
      "100%|█████████████████████████████████████████████████████████████████████████████| 100/100 [00:00<00:00, 12337.28it/s]\n",
      "100%|██████████████████████████████████████████████████████████████████████████████| 100/100 [00:00<00:00, 3535.02it/s]\n"
     ]
    },
    {
     "name": "stdout",
     "output_type": "stream",
     "text": [
      "************************\n",
      " trial 18\n"
     ]
    },
    {
     "name": "stderr",
     "output_type": "stream",
     "text": [
      "100%|█████████████████████████████████████████████████████████████████████████████| 100/100 [00:00<00:00, 13754.07it/s]\n",
      "100%|██████████████████████████████████████████████████████████████████████████████| 100/100 [00:00<00:00, 3353.67it/s]\n"
     ]
    },
    {
     "name": "stdout",
     "output_type": "stream",
     "text": [
      "************************\n",
      " trial 19\n"
     ]
    },
    {
     "name": "stderr",
     "output_type": "stream",
     "text": [
      "100%|█████████████████████████████████████████████████████████████████████████████| 100/100 [00:00<00:00, 15068.45it/s]\n",
      "100%|██████████████████████████████████████████████████████████████████████████████| 100/100 [00:00<00:00, 3554.19it/s]\n"
     ]
    },
    {
     "name": "stdout",
     "output_type": "stream",
     "text": [
      "************************\n",
      " trial 20\n"
     ]
    },
    {
     "name": "stderr",
     "output_type": "stream",
     "text": [
      "100%|█████████████████████████████████████████████████████████████████████████████| 100/100 [00:00<00:00, 15939.44it/s]\n",
      "100%|██████████████████████████████████████████████████████████████████████████████| 100/100 [00:00<00:00, 3474.38it/s]\n"
     ]
    },
    {
     "name": "stdout",
     "output_type": "stream",
     "text": [
      "************************\n",
      " trial 21\n"
     ]
    },
    {
     "name": "stderr",
     "output_type": "stream",
     "text": [
      "100%|█████████████████████████████████████████████████████████████████████████████| 100/100 [00:00<00:00, 12790.63it/s]\n",
      "100%|██████████████████████████████████████████████████████████████████████████████| 100/100 [00:00<00:00, 3749.07it/s]\n"
     ]
    },
    {
     "name": "stdout",
     "output_type": "stream",
     "text": [
      "************************\n",
      " trial 22\n"
     ]
    },
    {
     "name": "stderr",
     "output_type": "stream",
     "text": [
      "100%|██████████████████████████████████████████████████████████████████████████████| 100/100 [00:00<00:00, 9047.64it/s]\n",
      "100%|██████████████████████████████████████████████████████████████████████████████| 100/100 [00:00<00:00, 3410.53it/s]"
     ]
    },
    {
     "name": "stdout",
     "output_type": "stream",
     "text": [
      "************************\n",
      " trial 23\n"
     ]
    },
    {
     "name": "stderr",
     "output_type": "stream",
     "text": [
      "\n",
      "100%|█████████████████████████████████████████████████████████████████████████████| 100/100 [00:00<00:00, 10209.59it/s]\n",
      "100%|██████████████████████████████████████████████████████████████████████████████| 100/100 [00:00<00:00, 3382.45it/s]\n"
     ]
    },
    {
     "name": "stdout",
     "output_type": "stream",
     "text": [
      "************************\n",
      " trial 24\n"
     ]
    },
    {
     "name": "stderr",
     "output_type": "stream",
     "text": [
      "100%|█████████████████████████████████████████████████████████████████████████████| 100/100 [00:00<00:00, 10894.01it/s]\n",
      "100%|██████████████████████████████████████████████████████████████████████████████| 100/100 [00:00<00:00, 3915.30it/s]\n"
     ]
    },
    {
     "name": "stdout",
     "output_type": "stream",
     "text": [
      "************************\n",
      " trial 25\n"
     ]
    },
    {
     "name": "stderr",
     "output_type": "stream",
     "text": [
      "100%|██████████████████████████████████████████████████████████████████████████████| 100/100 [00:00<00:00, 6974.35it/s]\n",
      "100%|██████████████████████████████████████████████████████████████████████████████| 100/100 [00:00<00:00, 4120.91it/s]\n"
     ]
    },
    {
     "name": "stdout",
     "output_type": "stream",
     "text": [
      "************************\n",
      " trial 26\n"
     ]
    },
    {
     "name": "stderr",
     "output_type": "stream",
     "text": [
      "100%|██████████████████████████████████████████████████████████████████████████████| 100/100 [00:00<00:00, 5841.73it/s]\n",
      "100%|██████████████████████████████████████████████████████████████████████████████| 100/100 [00:00<00:00, 3386.55it/s]\n"
     ]
    },
    {
     "name": "stdout",
     "output_type": "stream",
     "text": [
      "************************\n",
      " trial 27\n"
     ]
    },
    {
     "name": "stderr",
     "output_type": "stream",
     "text": [
      "100%|██████████████████████████████████████████████████████████████████████████████| 100/100 [00:00<00:00, 7592.87it/s]\n",
      "100%|██████████████████████████████████████████████████████████████████████████████| 100/100 [00:00<00:00, 3523.59it/s]\n"
     ]
    },
    {
     "name": "stdout",
     "output_type": "stream",
     "text": [
      "************************\n",
      " trial 28\n"
     ]
    },
    {
     "name": "stderr",
     "output_type": "stream",
     "text": [
      "100%|█████████████████████████████████████████████████████████████████████████████| 100/100 [00:00<00:00, 14836.07it/s]\n",
      "100%|██████████████████████████████████████████████████████████████████████████████| 100/100 [00:00<00:00, 3587.94it/s]\n"
     ]
    },
    {
     "name": "stdout",
     "output_type": "stream",
     "text": [
      "************************\n",
      " trial 29\n"
     ]
    },
    {
     "name": "stderr",
     "output_type": "stream",
     "text": [
      "100%|█████████████████████████████████████████████████████████████████████████████| 100/100 [00:00<00:00, 12584.55it/s]\n",
      "100%|██████████████████████████████████████████████████████████████████████████████| 100/100 [00:00<00:00, 3690.32it/s]\n"
     ]
    },
    {
     "name": "stdout",
     "output_type": "stream",
     "text": [
      "************************\n",
      " trial 30\n"
     ]
    },
    {
     "name": "stderr",
     "output_type": "stream",
     "text": [
      "100%|█████████████████████████████████████████████████████████████████████████████| 100/100 [00:00<00:00, 12004.30it/s]\n",
      "100%|██████████████████████████████████████████████████████████████████████████████| 100/100 [00:00<00:00, 3527.62it/s]\n"
     ]
    }
   ],
   "source": [
    "trials = 30\n",
    "steps = 400\n",
    "batch_size = 4\n",
    "is_first = True\n",
    "for t in range(trials):\n",
    "    print(\"************************\\n trial\", t + 1)\n",
    "    X_train, X_test, Y_train, Y_test = model_selection.train_test_split(X, Y, train_size=0.80, test_size=0.20)\n",
    "    init = np.random.normal(size = (X_train.shape[1] + 1, 1), scale = 1e-1)\n",
    "    coeff_pas, inter_pas = usm.uncertain_sampling(X_train, np.log1p(Y_train),\n",
    "                                              init_method = 'fixed',\n",
    "                                              init = np.copy(init), \n",
    "                                              query = 'passive',\n",
    "                                              max_iter = steps, \n",
    "                                              step_size = 1e-2, \n",
    "                                              batch_size = batch_size,\n",
    "                                              method = 'linear_regression')\n",
    "    coeff_act, inter_act = usm.uncertain_sampling(X_train, np.log1p(Y_train),\n",
    "                                              init_method = 'fixed',\n",
    "                                              init = np.copy(init), \n",
    "                                              query = 'active',\n",
    "                                              width = 2e-1,\n",
    "                                              max_iter = steps, \n",
    "                                              step_size = 1e-2, \n",
    "                                              warm_start = 0,\n",
    "                                              sep_valid = True,\n",
    "                                              valid_ratio = 1.0,\n",
    "                                              update_freq = 1,\n",
    "                                              batch_size = batch_size,\n",
    "                                              method = 'linear_regression')\n",
    "    if is_first:\n",
    "        loss_pas = np.asarray(usm.plot_loss(X_test, Y_test, coeff_pas, inter_pas, log_transform = True)) / float(trials)\n",
    "        loss_act = np.asarray(usm.plot_loss(X_test, Y_test, coeff_act, inter_act, log_transform = True)) / float(trials)\n",
    "        is_first = False\n",
    "    else:\n",
    "        loss_pas += np.asarray(usm.plot_loss(X_test, Y_test, coeff_pas, inter_pas, log_transform = True)) / float(trials)\n",
    "        loss_act += np.asarray(usm.plot_loss(X_test, Y_test, coeff_act, inter_act, log_transform = True)) / float(trials)"
   ]
  },
  {
   "cell_type": "code",
   "execution_count": 48,
   "id": "994e4267",
   "metadata": {},
   "outputs": [
    {
     "data": {
      "image/png": "[encoded data removed]",
      "text/plain": [
       "<Figure size 640x480 with 1 Axes>"
      ]
     },
     "metadata": {},
     "output_type": "display_data"
    }
   ],
   "source": [
    "grid = np.arange(0, steps, batch_size)\n",
    "grid = np.concatenate((grid, np.atleast_1d(steps)))\n",
    "plt.plot(grid, loss_pas, label = 'passive', linestyle = 'dotted')\n",
    "plt.plot(grid, loss_act, label = 'active', linestyle = 'solid')\n",
    "plt.legend()\n",
    "plt.xlabel('steps')\n",
    "plt.ylabel('mean squared error')\n",
    "plt.show()"
   ]
  },
  {
   "cell_type": "code",
   "execution_count": 50,
   "id": "3316051c",
   "metadata": {},
   "outputs": [
    {
     "name": "stderr",
     "output_type": "stream",
     "text": [
      "The PostScript backend does not support transparency; partially transparent artists will be rendered opaque.\n"
     ]
    },
    {
     "data": {
      "image/png": "[encoded data removed]",
      "text/plain": [
       "<Figure size 600x500 with 1 Axes>"
      ]
     },
     "metadata": {},
     "output_type": "display_data"
    }
   ],
   "source": [
    "fig, ax = plt.subplots(1, 1, figsize = (6, 5))\n",
    "\n",
    "ax.plot(grid, loss_pas, label = 'passive', linestyle = 'dotted')\n",
    "ax.plot(grid, loss_act, label = 'active', linestyle = 'solid')\n",
    "\n",
    "\n",
    "ax.legend(fontsize=14)\n",
    "ax.set_xlabel('Steps', fontsize=14)\n",
    "ax.set_ylabel('Mean Squared Error', fontsize=14)\n",
    "ax.tick_params(axis='both', which='major', labelsize=12)\n",
    "ax.tick_params(axis='both', which='minor', labelsize=12)\n",
    "\n",
    "plt.savefig(\"Exp2_forestfires.jpg\", bbox_inches='tight')\n",
    "plt.savefig(\"Exp2_forestfires.eps\", bbox_inches='tight')\n",
    "plt.show()"
   ]
  }
 ],
 "metadata": {
  "kernelspec": {
   "display_name": "Python 3 (ipykernel)",
   "language": "python",
   "name": "python3"
  },
  "language_info": {
   "codemirror_mode": {
    "name": "ipython",
    "version": 3
   },
   "file_extension": ".py",
   "mimetype": "text/x-python",
   "name": "python",
   "nbconvert_exporter": "python",
   "pygments_lexer": "ipython3",
   "version": "3.8.16"
  }
 },
 "nbformat": 4,
 "nbformat_minor": 5
}
